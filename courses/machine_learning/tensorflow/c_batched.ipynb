{
 "cells": [
  {
   "cell_type": "markdown",
   "metadata": {},
   "source": [
    "<h1> 2c. Refactoring to add batching and feature-creation </h1>\n",
    "\n",
    "In this notebook, we continue reading the same small dataset, but refactor our ML pipeline in two small, but significant, ways:\n",
    "<ol>\n",
    "<li> Refactor the input to read data in batches.\n",
    "<li> Refactor the feature creation so that it is not one-to-one with inputs.\n",
    "</ol>"
   ]
  },
  {
   "cell_type": "code",
   "execution_count": 1,
   "metadata": {},
   "outputs": [
    {
     "name": "stdout",
     "output_type": "stream",
     "text": [
      "1.4.1\n"
     ]
    }
   ],
   "source": [
    "import google.datalab.ml as ml\n",
    "import tensorflow as tf\n",
    "from tensorflow.contrib import layers\n",
    "print tf.__version__\n",
    "#print ml.sdk_location"
   ]
  },
  {
   "cell_type": "code",
   "execution_count": 2,
   "metadata": {},
   "outputs": [],
   "source": [
    "import datalab.bigquery as bq\n",
    "import tensorflow as tf\n",
    "import numpy as np\n",
    "import shutil"
   ]
  },
  {
   "cell_type": "markdown",
   "metadata": {},
   "source": [
    "<h2> 1. Refactor the input </h2>\n",
    "\n",
    "Read data created in Lab1a, but this time make it more general, so that we are reading in batches.  Instead of using Pandas, we will add a filename queue to the TensorFlow graph.  This queue will be cycled through num_epochs times."
   ]
  },
  {
   "cell_type": "code",
   "execution_count": 3,
   "metadata": {},
   "outputs": [],
   "source": [
    "CSV_COLUMNS = ['fare_amount', 'pickuplon','pickuplat','dropofflon','dropofflat','passengers', 'key']\n",
    "LABEL_COLUMN = 'fare_amount'\n",
    "DEFAULTS = [[0.0], [-74.0], [40.0], [-74.0], [40.7], [1.0], ['nokey']]\n",
    "\n",
    "def read_dataset(filename, num_epochs=None, batch_size=512, mode=tf.contrib.learn.ModeKeys.TRAIN):\n",
    "  def _input_fn():\n",
    "    input_file_names = tf.train.match_filenames_once(filename)\n",
    "    filename_queue = tf.train.string_input_producer(\n",
    "        input_file_names, num_epochs=num_epochs, shuffle=True)\n",
    "    reader = tf.TextLineReader()\n",
    "    _, value = reader.read_up_to(filename_queue, num_records=batch_size)\n",
    "\n",
    "    value_column = tf.expand_dims(value, -1)\n",
    "    columns = tf.decode_csv(value_column, record_defaults=DEFAULTS)\n",
    "    features = dict(zip(CSV_COLUMNS, columns))\n",
    "    label = features.pop(LABEL_COLUMN)\n",
    "    return features, label\n",
    "\n",
    "  return _input_fn\n",
    "\n",
    "def get_train():\n",
    "  return read_dataset('./taxi-train.csv', num_epochs=100, mode=tf.contrib.learn.ModeKeys.TRAIN)\n",
    "\n",
    "def get_valid():\n",
    "  return read_dataset('./taxi-valid.csv', num_epochs=1, mode=tf.contrib.learn.ModeKeys.EVAL)\n",
    "\n",
    "def get_test():\n",
    "  return read_dataset('./taxi-test.csv', num_epochs=1, mode=tf.contrib.learn.ModeKeys.EVAL)"
   ]
  },
  {
   "cell_type": "markdown",
   "metadata": {},
   "source": [
    "<h2> 2. Refactor the way features are created. </h2>\n",
    "\n",
    "For now, pass these through (same as previous lab).  However, refactoring this way will enable us to break the one-to-one relationship between inputs and features."
   ]
  },
  {
   "cell_type": "code",
   "execution_count": 4,
   "metadata": {},
   "outputs": [],
   "source": [
    "INPUT_COLUMNS = [\n",
    "    layers.real_valued_column('pickuplon'),\n",
    "    layers.real_valued_column('pickuplat'),\n",
    "    layers.real_valued_column('dropofflat'),\n",
    "    layers.real_valued_column('dropofflon'),\n",
    "    layers.real_valued_column('passengers'),\n",
    "]\n",
    "\n",
    "feature_cols = INPUT_COLUMNS"
   ]
  },
  {
   "cell_type": "markdown",
   "metadata": {},
   "source": [
    "<h2> Create and train the model </h2>\n",
    "\n",
    "Note that we no longer have a num_steps variable.  get_train() specifies a num_epochs."
   ]
  },
  {
   "cell_type": "code",
   "execution_count": 7,
   "metadata": {},
   "outputs": [
    {
     "name": "stdout",
     "output_type": "stream",
     "text": [
      "INFO:tensorflow:Using default config.\n",
      "INFO:tensorflow:Using config: {'_save_checkpoints_secs': 600, '_session_config': None, '_keep_checkpoint_max': 5, '_task_type': 'worker', '_is_chief': True, '_cluster_spec': <tensorflow.python.training.server_lib.ClusterSpec object at 0x1c1c414fd0>, '_save_checkpoints_steps': None, '_keep_checkpoint_every_n_hours': 10000, '_service': None, '_num_ps_replicas': 0, '_tf_random_seed': None, '_master': '', '_num_worker_replicas': 1, '_task_id': 0, '_log_step_count_steps': 100, '_model_dir': 'taxi_trained', '_save_summary_steps': 100}\n",
      "INFO:tensorflow:Create CheckpointSaverHook.\n",
      "INFO:tensorflow:Saving checkpoints for 1 into taxi_trained/model.ckpt.\n",
      "INFO:tensorflow:loss = 105246.0, step = 1\n",
      "INFO:tensorflow:global_step/sec: 219.716\n",
      "INFO:tensorflow:loss = 42109.7, step = 101 (0.456 sec)\n",
      "INFO:tensorflow:global_step/sec: 236.424\n",
      "INFO:tensorflow:loss = 41853.3, step = 201 (0.423 sec)\n",
      "INFO:tensorflow:global_step/sec: 221.554\n",
      "INFO:tensorflow:loss = 36080.0, step = 301 (0.451 sec)\n",
      "INFO:tensorflow:global_step/sec: 208.451\n",
      "INFO:tensorflow:loss = 40807.0, step = 401 (0.480 sec)\n",
      "INFO:tensorflow:global_step/sec: 221.544\n",
      "INFO:tensorflow:loss = 42115.0, step = 501 (0.452 sec)\n",
      "INFO:tensorflow:global_step/sec: 242.484\n",
      "INFO:tensorflow:loss = 41842.9, step = 601 (0.412 sec)\n",
      "INFO:tensorflow:global_step/sec: 246.677\n",
      "INFO:tensorflow:loss = 36079.9, step = 701 (0.405 sec)\n",
      "INFO:tensorflow:global_step/sec: 207.616\n",
      "INFO:tensorflow:loss = 40806.4, step = 801 (0.483 sec)\n",
      "INFO:tensorflow:global_step/sec: 227.607\n",
      "INFO:tensorflow:loss = 42117.0, step = 901 (0.439 sec)\n",
      "INFO:tensorflow:global_step/sec: 233.643\n",
      "INFO:tensorflow:loss = 41836.3, step = 1001 (0.428 sec)\n",
      "INFO:tensorflow:global_step/sec: 224.121\n",
      "INFO:tensorflow:loss = 36079.5, step = 1101 (0.446 sec)\n",
      "INFO:tensorflow:global_step/sec: 228.321\n",
      "INFO:tensorflow:loss = 40806.5, step = 1201 (0.440 sec)\n",
      "INFO:tensorflow:global_step/sec: 197.013\n",
      "INFO:tensorflow:loss = 42117.2, step = 1301 (0.506 sec)\n",
      "INFO:tensorflow:global_step/sec: 226.458\n",
      "INFO:tensorflow:loss = 41831.6, step = 1401 (0.442 sec)\n",
      "INFO:tensorflow:global_step/sec: 220.647\n",
      "INFO:tensorflow:loss = 36078.9, step = 1501 (0.453 sec)\n",
      "INFO:tensorflow:Saving checkpoints for 1600 into taxi_trained/model.ckpt.\n",
      "INFO:tensorflow:Loss for final step: 6535.11.\n"
     ]
    }
   ],
   "source": [
    "tf.logging.set_verbosity(tf.logging.INFO)\n",
    "shutil.rmtree('taxi_trained', ignore_errors=True) # start fresh each time\n",
    "model = tf.estimator.LinearRegressor(\n",
    "      feature_columns=feature_cols, model_dir='taxi_trained')\n",
    "model.train(input_fn=get_train());"
   ]
  },
  {
   "cell_type": "markdown",
   "metadata": {},
   "source": [
    "<h3> Evaluate model </h3>\n",
    "\n",
    "As before, evaluate on the validation data.  We'll do the third refactoring (to move the evaluation into the training loop) in the next lab."
   ]
  },
  {
   "cell_type": "code",
   "execution_count": 8,
   "metadata": {},
   "outputs": [
    {
     "name": "stdout",
     "output_type": "stream",
     "text": [
      "INFO:tensorflow:Starting evaluation at 2018-02-26-10:36:15\n",
      "INFO:tensorflow:Restoring parameters from taxi_trained/model.ckpt-1600\n",
      "INFO:tensorflow:Evaluation [1/1]\n",
      "INFO:tensorflow:Finished evaluation at 2018-02-26-10:36:16\n",
      "INFO:tensorflow:Saving dict for global step 1600: average_loss = 127.754, global_step = 1600, loss = 65410.2\n",
      "RMSE on validation dataset = 255.754211426\n"
     ]
    }
   ],
   "source": [
    "def print_rmse(model, name, input_fn):\n",
    "  metrics = model.evaluate(input_fn=input_fn, steps=1)\n",
    "  print 'RMSE on {} dataset = {}'.format(name, np.sqrt(metrics['loss']))\n",
    "print_rmse(model, 'validation', get_valid())"
   ]
  },
  {
   "cell_type": "markdown",
   "metadata": {},
   "source": [
    "Copyright 2018 Google Inc. Licensed under the Apache License, Version 2.0 (the \"License\"); you may not use this file except in compliance with the License. You may obtain a copy of the License at http://www.apache.org/licenses/LICENSE-2.0 Unless required by applicable law or agreed to in writing, software distributed under the License is distributed on an \"AS IS\" BASIS, WITHOUT WARRANTIES OR CONDITIONS OF ANY KIND, either express or implied. See the License for the specific language governing permissions and limitations under the License"
   ]
  }
 ],
 "metadata": {
  "kernelspec": {
   "display_name": "Python 2",
   "language": "python",
   "name": "python2"
  },
  "language_info": {
   "codemirror_mode": {
    "name": "ipython",
    "version": 2
   },
   "file_extension": ".py",
   "mimetype": "text/x-python",
   "name": "python",
   "nbconvert_exporter": "python",
   "pygments_lexer": "ipython2",
   "version": "2.7.14"
  }
 },
 "nbformat": 4,
 "nbformat_minor": 2
}
