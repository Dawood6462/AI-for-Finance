{
 "cells": [
  {
   "cell_type": "markdown",
   "metadata": {
    "deletable": true,
    "editable": true
   },
   "source": [
    "# MNIST Image Classification with TensorFlow\n",
    "\n",
    "This notebook demonstrates how to implement a simple linear image models on [MNIST](http://yann.lecun.com/exdb/mnist/) using Estimator.\n",
    "<hr/>\n",
    "This <a href=\"mnist_models.ipynb\">companion notebook</a> extends the basic harness of this notebook to a variety of models including DNN, CNN, dropout, pooling etc."
   ]
  },
  {
   "cell_type": "code",
   "execution_count": 1,
   "metadata": {
    "collapsed": false,
    "deletable": true,
    "editable": true,
    "jupyter": {
     "outputs_hidden": false
    }
   },
   "outputs": [
    {
     "name": "stdout",
     "output_type": "stream",
     "text": [
      "2.0.0-beta1\n"
     ]
    }
   ],
   "source": [
    "import numpy as np\n",
    "import matplotlib.pyplot as plt\n",
    "import shutil\n",
    "import os\n",
    "import tensorflow as tf\n",
    "print(tf.__version__)"
   ]
  },
  {
   "cell_type": "markdown",
   "metadata": {
    "deletable": true,
    "editable": true
   },
   "source": [
    "## Exploring the data\n",
    "\n",
    "The MNIST dataset is already included in tensorflow through the keras datasets module. Let's load it and get a sense of the data."
   ]
  },
  {
   "cell_type": "code",
   "execution_count": 2,
   "metadata": {
    "collapsed": false,
    "jupyter": {
     "outputs_hidden": false
    }
   },
   "outputs": [
    {
     "name": "stdout",
     "output_type": "stream",
     "text": [
      "(28, 28)\n",
      "10\n"
     ]
    }
   ],
   "source": [
    "mnist = tf.keras.datasets.mnist.load_data()\n",
    "(x_train, y_train), (x_test, y_test) = mnist\n",
    "\n",
    "print(x_train[0].shape)\n",
    "tf.print(tf.size(tf.unique(y_train).y))"
   ]
  },
  {
   "cell_type": "code",
   "execution_count": 3,
   "metadata": {
    "collapsed": false,
    "deletable": true,
    "editable": true,
    "jupyter": {
     "outputs_hidden": false
    }
   },
   "outputs": [],
   "source": [
    "HEIGHT, WIDTH = x_train[0].shape\n",
    "NCLASSES = tf.size(tf.unique(y_train).y)"
   ]
  },
  {
   "cell_type": "markdown",
   "metadata": {},
   "source": [
    "Each image is 28 x 28 pixels and represents a digit from 0 to 9. These images are black and white, so each pixel is a value from 0 (white) to 255 (black). Raw numbers can be hard to interpret sometimes, so we can plot the values to see the handwritten digit as an image."
   ]
  },
  {
   "cell_type": "code",
   "execution_count": 4,
   "metadata": {
    "collapsed": false,
    "deletable": true,
    "editable": true,
    "jupyter": {
     "outputs_hidden": false
    }
   },
   "outputs": [
    {
     "name": "stdout",
     "output_type": "stream",
     "text": [
      "The label for image number 12 is 9\n"
     ]
    },
    {
     "data": {
      "image/png": "[encoded data removed]",
      "text/plain": [
       "<Figure size 432x288 with 1 Axes>"
      ]
     },
     "metadata": {
      "needs_background": "light"
     },
     "output_type": "display_data"
    }
   ],
   "source": [
    "IMGNO = 12\n",
    "# Uncomment to see raw numerical values.\n",
    "# print(x_test[IMGNO])\n",
    "plt.imshow(x_test[IMGNO].reshape(HEIGHT, WIDTH));\n",
    "print(\"The label for image number \" + str(IMGNO) + \" is \" + str(y_test[IMGNO]))"
   ]
  },
  {
   "cell_type": "markdown",
   "metadata": {
    "deletable": true,
    "editable": true
   },
   "source": [
    "## Define the model.\n",
    "Let's start with a very simple linear classifier. This was the first method to be tried on MNIST in 1998. All our models will have this basic interface -- they will take an image and return logits."
   ]
  },
  {
   "cell_type": "code",
   "execution_count": 5,
   "metadata": {
    "collapsed": false,
    "deletable": true,
    "editable": true,
    "jupyter": {
     "outputs_hidden": false
    }
   },
   "outputs": [],
   "source": [
    "# Using low-level tensorflow\n",
    "def linear_model(img):\n",
    "    X = tf.reshape(tensor=img, shape=[-1, HEIGHT*WIDTH]) #flatten\n",
    "    W = tf.get_variable(\n",
    "        name=\"W\",\n",
    "        shape=[HEIGHT*WIDTH, NCLASSES],\n",
    "        initializer=tf.truncated_normal_initializer(stddev=0.1, seed=1))\n",
    "    b = tf.get_variable(\n",
    "        name=\"b\", shape=[NCLASSES], initializer=tf.zeros_initializer)\n",
    "    ylogits = tf.matmul(a=X, b=W) + b\n",
    "    return ylogits"
   ]
  },
  {
   "cell_type": "markdown",
   "metadata": {},
   "source": [
    "Note we can also build our linear classifer using the tf.keras API. Notice when using tf.keras we don't have to define or initialize our weights and biases. This happens automatically for us in the background. We can also add a softmax layer to transform the logits into probabilities. Finally, we can compile the model using categorical crossentropy in order to strongly penalize incorrect predictions with high confidence.\n",
    "\n",
    "When building more complex models such as DNNs and CNNs our code will be much more readable by using the tf.keras API. Let's get one working so we can test it and use it as a benchmark."
   ]
  },
  {
   "cell_type": "code",
   "execution_count": 6,
   "metadata": {},
   "outputs": [],
   "source": [
    "# Using tf.layers API\n",
    "def linear_model():\n",
    "    model = tf.keras.Sequential([\n",
    "        tf.keras.layers.Flatten(),\n",
    "        tf.keras.layers.Dense(NCLASSES),\n",
    "        tf.keras.layers.Softmax()\n",
    "    ])\n",
    "\n",
    "    # Model is the full model w/o custom layers\n",
    "    model.compile(optimizer='adam',\n",
    "                  loss='sparse_categorical_crossentropy',\n",
    "                  metrics=['accuracy'])\n",
    "    \n",
    "    return model"
   ]
  },
  {
   "cell_type": "markdown",
   "metadata": {
    "deletable": true,
    "editable": true
   },
   "source": [
    "## Write Input Functions\n",
    "\n",
    "As usual, we need to specify input functions for training and evaluating. We'll scale each pixel value so it's a decimal value between 0 and 1 as a way of normalizing the data."
   ]
  },
  {
   "cell_type": "code",
   "execution_count": 7,
   "metadata": {
    "collapsed": false,
    "deletable": true,
    "editable": true,
    "jupyter": {
     "outputs_hidden": false
    }
   },
   "outputs": [],
   "source": [
    "BUFFER_SIZE = 5000\n",
    "BATCH_SIZE = 100\n",
    "NUM_EPOCHS = 10\n",
    "STEPS_PER_EPOCH = 100\n",
    "\n",
    "def scale(image, label):\n",
    "    image = tf.cast(image, tf.float32)\n",
    "    image /= 255\n",
    "    return image, label\n",
    "\n",
    "def create_input_fn(mode):\n",
    "    def input_fn():\n",
    "        train_key = tf.estimator.ModeKeys.TRAIN\n",
    "        dataset = (x_train, y_train) if mode == train_key else (x_test, y_test)\n",
    "        dataset = tf.data.Dataset.from_tensor_slices(dataset)\n",
    "        dataset = dataset.map(scale).batch(BATCH_SIZE)\n",
    "        if mode == train_key:\n",
    "            print(\"Repeating training dataset indefinitely\")\n",
    "            dataset = dataset.shuffle(BUFFER_SIZE).repeat()\n",
    "        return dataset\n",
    "    return input_fn"
   ]
  },
  {
   "cell_type": "markdown",
   "metadata": {},
   "source": [
    "Time to train the model! The original MNIST linear classify had an error rate of 12%. Quite an acheivement at the time, but we can do better with other model types. For now, let's set it as a unit test to beat the original."
   ]
  },
  {
   "cell_type": "code",
   "execution_count": 8,
   "metadata": {},
   "outputs": [
    {
     "name": "stdout",
     "output_type": "stream",
     "text": [
      "Repeating training dataset indefinitely\n",
      "Epoch 1/10\n"
     ]
    },
    {
     "name": "stderr",
     "output_type": "stream",
     "text": [
      "WARNING: Logging before flag parsing goes to stderr.\n",
      "W0912 01:45:48.264009 140289595434752 deprecation.py:323] From /usr/local/lib/python3.5/dist-packages/tensorflow/python/ops/math_grad.py:1250: add_dispatch_support.<locals>.wrapper (from tensorflow.python.ops.array_ops) is deprecated and will be removed in a future version.\n",
      "Instructions for updating:\n",
      "Use tf.where in 2.0, which has the same broadcast rule as np.where\n"
     ]
    },
    {
     "name": "stdout",
     "output_type": "stream",
     "text": [
      "\n",
      "Epoch 00001: saving model to mnist/learned/checkpoints/mnist\n",
      "100/100 - 17s - loss: 1.3342 - accuracy: 0.4948 - val_loss: 0.7920 - val_accuracy: 0.8386\n",
      "Epoch 2/10\n",
      "\n",
      "Epoch 00002: saving model to mnist/learned/checkpoints/mnist\n",
      "100/100 - 1s - loss: 0.6763 - accuracy: 0.8426 - val_loss: 0.5566 - val_accuracy: 0.8706\n",
      "Epoch 3/10\n",
      "\n",
      "Epoch 00003: saving model to mnist/learned/checkpoints/mnist\n",
      "100/100 - 1s - loss: 0.5213 - accuracy: 0.8722 - val_loss: 0.4672 - val_accuracy: 0.8844\n",
      "Epoch 4/10\n",
      "\n",
      "Epoch 00004: saving model to mnist/learned/checkpoints/mnist\n",
      "100/100 - 1s - loss: 0.4582 - accuracy: 0.8779 - val_loss: 0.4172 - val_accuracy: 0.8940\n",
      "Epoch 5/10\n",
      "\n",
      "Epoch 00005: saving model to mnist/learned/checkpoints/mnist\n",
      "100/100 - 1s - loss: 0.4321 - accuracy: 0.8764 - val_loss: 0.3886 - val_accuracy: 0.8990\n",
      "Epoch 6/10\n",
      "\n",
      "Epoch 00006: saving model to mnist/learned/checkpoints/mnist\n",
      "100/100 - 1s - loss: 0.3997 - accuracy: 0.8800 - val_loss: 0.3698 - val_accuracy: 0.9036\n",
      "Epoch 7/10\n",
      "\n",
      "Epoch 00007: saving model to mnist/learned/checkpoints/mnist\n",
      "100/100 - 1s - loss: 0.3743 - accuracy: 0.9029 - val_loss: 0.3555 - val_accuracy: 0.9055\n",
      "Epoch 8/10\n",
      "\n",
      "Epoch 00008: saving model to mnist/learned/checkpoints/mnist\n",
      "100/100 - 1s - loss: 0.3516 - accuracy: 0.9069 - val_loss: 0.3435 - val_accuracy: 0.9078\n",
      "Epoch 9/10\n",
      "\n",
      "Epoch 00009: saving model to mnist/learned/checkpoints/mnist\n",
      "100/100 - 1s - loss: 0.3612 - accuracy: 0.8957 - val_loss: 0.3322 - val_accuracy: 0.9105\n",
      "Epoch 10/10\n",
      "\n",
      "Epoch 00010: saving model to mnist/learned/checkpoints/mnist\n",
      "100/100 - 1s - loss: 0.3521 - accuracy: 0.9043 - val_loss: 0.3242 - val_accuracy: 0.9117\n"
     ]
    }
   ],
   "source": [
    "model = linear_model()\n",
    "\n",
    "OUTDIR = \"mnist/learned\"\n",
    "checkpoint_path = '{}/checkpoints/mnist'.format(OUTDIR)\n",
    "cp_callback = tf.keras.callbacks.ModelCheckpoint(\n",
    "    checkpoint_path, save_weights_only=True, verbose=1)\n",
    "\n",
    "train_data = create_input_fn('train')()\n",
    "validation_data = create_input_fn('test')()\n",
    "\n",
    "history = model.fit(\n",
    "    train_data, \n",
    "    validation_data=validation_data,\n",
    "    epochs=NUM_EPOCHS, \n",
    "    steps_per_epoch=STEPS_PER_EPOCH,\n",
    "    verbose=2, # 0=silent, 1=progress bar, 2=one line per epoch\n",
    "    callbacks=[cp_callback]\n",
    ")"
   ]
  },
  {
   "cell_type": "code",
   "execution_count": 15,
   "metadata": {},
   "outputs": [],
   "source": [
    "import unittest\n",
    "\n",
    "benchmark_error = .12\n",
    "benchmark_accuracy = 1 - benchmark_error\n",
    "\n",
    "class TestModelAccuracy(unittest.TestCase):\n",
    "    def test_last_accuracy(self):\n",
    "        self.assertGreater(history.history['accuracy'][-1], benchmark_accuracy)\n",
    "        \n",
    "TestModelAccuracy().test_last_accuracy()"
   ]
  },
  {
   "cell_type": "markdown",
   "metadata": {
    "deletable": true,
    "editable": true
   },
   "source": [
    "## Write Custom Estimator\n",
    "I could have simply used a canned LinearClassifier, but later on, I will want to use different models, and so let's write a custom estimator"
   ]
  },
  {
   "cell_type": "code",
   "execution_count": 116,
   "metadata": {
    "collapsed": false,
    "deletable": true,
    "editable": true,
    "jupyter": {
     "outputs_hidden": false
    }
   },
   "outputs": [],
   "source": [
    "def train_and_evaluate(output_dir, hparams):\n",
    "    train_spec = tf.estimator.TrainSpec(\n",
    "        input_fn=create_input_fn('train'),\n",
    "        max_steps=hparams[\"train_steps\"])\n",
    "    eval_spec = tf.estimator.EvalSpec(\n",
    "        input_fn=create_input_fn('test'),\n",
    "        steps=STEPS_PER_EPOCH)\n",
    "    model = linear_model()\n",
    "    estimator = tf.keras.estimator.model_to_estimator(\n",
    "      keras_model=model, model_dir=output_dir\n",
    "    )\n",
    "    return tf.estimator.train_and_evaluate(estimator, train_spec, eval_spec) "
   ]
  },
  {
   "cell_type": "markdown",
   "metadata": {
    "deletable": true,
    "editable": true
   },
   "source": [
    " tf.estimator.train_and_evaluate does distributed training."
   ]
  },
  {
   "cell_type": "markdown",
   "metadata": {
    "deletable": true,
    "editable": true
   },
   "source": [
    "This is the main() function"
   ]
  },
  {
   "cell_type": "code",
   "execution_count": 117,
   "metadata": {
    "collapsed": false,
    "deletable": true,
    "editable": true,
    "jupyter": {
     "outputs_hidden": false
    }
   },
   "outputs": [
    {
     "name": "stdout",
     "output_type": "stream",
     "text": [
      "Repeating training dataset indefinitely\n"
     ]
    },
    {
     "data": {
      "text/plain": [
       "({'accuracy': 0.8864, 'global_step': 1000, 'loss': 0.4121501}, [])"
      ]
     },
     "execution_count": 117,
     "metadata": {},
     "output_type": "execute_result"
    }
   ],
   "source": [
    "OUTDIR = \"mnist/learned\"\n",
    "shutil.rmtree(path = OUTDIR, ignore_errors = True) # start fresh each time\n",
    "\n",
    "hparams = {\"train_steps\": 1000, \"learning_rate\": 0.01}\n",
    "train_and_evaluate(OUTDIR, hparams)"
   ]
  },
  {
   "cell_type": "markdown",
   "metadata": {},
   "source": [
    "I got:\n",
    "\n",
    "`Saving dict for global step 1000: accuracy = 0.9158, global_step = 1000, loss = 0.29720208`\n",
    "\n",
    "In other words, we achieved 91.6% accuracy with the simple linear model!"
   ]
  },
  {
   "cell_type": "markdown",
   "metadata": {
    "deletable": true,
    "editable": true
   },
   "source": [
    "<pre>\n",
    "# Copyright 2017 Google Inc. All Rights Reserved.\n",
    "#\n",
    "# Licensed under the Apache License, Version 2.0 (the \"License\");\n",
    "# you may not use this file except in compliance with the License.\n",
    "# You may obtain a copy of the License at\n",
    "#\n",
    "#      http://www.apache.org/licenses/LICENSE-2.0\n",
    "#\n",
    "# Unless required by applicable law or agreed to in writing, software\n",
    "# distributed under the License is distributed on an \"AS IS\" BASIS,\n",
    "# WITHOUT WARRANTIES OR CONDITIONS OF ANY KIND, either express or implied.\n",
    "# See the License for the specific language governing permissions and\n",
    "# limitations under the License.\n",
    "</pre>"
   ]
  }
 ],
 "metadata": {
  "kernelspec": {
   "display_name": "Python 3",
   "language": "python",
   "name": "python3"
  },
  "language_info": {
   "codemirror_mode": {
    "name": "ipython",
    "version": 3
   },
   "file_extension": ".py",
   "mimetype": "text/x-python",
   "name": "python",
   "nbconvert_exporter": "python",
   "pygments_lexer": "ipython3",
   "version": "3.5.3"
  }
 },
 "nbformat": 4,
 "nbformat_minor": 4
}
