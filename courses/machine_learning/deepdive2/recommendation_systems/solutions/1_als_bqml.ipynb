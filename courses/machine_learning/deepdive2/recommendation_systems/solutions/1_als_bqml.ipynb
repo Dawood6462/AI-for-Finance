{
 "cells": [
  {
   "cell_type": "markdown",
   "metadata": {},
   "source": [
    "# Collaborative filtering on the MovieLens Dataset"
   ]
  },
  {
   "cell_type": "markdown",
   "metadata": {},
   "source": [
    "###### This notebook is based on part of Chapter 9 of [BigQuery: The Definitive Guide](https://www.oreilly.com/library/view/google-bigquery-the/9781492044451/ \"http://shop.oreilly.com/product/0636920207399.do\") by Lakshmanan and Tigani.\n",
    "### MovieLens dataset\n",
    "To illustrate recommender systems in action, let’s use the MovieLens dataset. This is a dataset of movie reviews released by GroupLens, a research lab in the Department of Computer Science and Engineering at the University of Minnesota, through funding by the US National Science Foundation.\n",
    "\n",
    "Download the data and load it as a BigQuery table using:"
   ]
  },
  {
   "cell_type": "code",
   "execution_count": 4,
   "metadata": {},
   "outputs": [],
   "source": [
    "import os\n",
    "PROJECT = \"qwiklabs-gcp-gcpd-2f6ffe6a37af\" # REPLACE WITH YOUR PROJECT ID\n",
    "BUCKET = \"your-bucket-here\" # REPLACE WITH YOUR BUCKET NAME\n",
    "REGION = \"us-central1\" # REPLACE WITH YOUR BUCKET REGION e.g. us-central1\n",
    "\n",
    "# Do not change these\n",
    "os.environ[\"PROJECT\"] = PROJECT\n",
    "os.environ[\"BUCKET\"] = BUCKET\n",
    "os.environ[\"REGION\"] = REGION"
   ]
  },
  {
   "cell_type": "markdown",
   "metadata": {},
   "source": [
    "### Download 20 million movie ratings\n",
    "\n",
    "The [grouplens.org site](https://grouplens.org/) hosts a zip file of 20 million movie `ratings` as well as a `movies` lookup table. Run the below to download the zip locally and to preview our raw data."
   ]
  },
  {
   "cell_type": "code",
   "execution_count": 10,
   "metadata": {},
   "outputs": [
    {
     "name": "stdout",
     "output_type": "stream",
     "text": [
      "Archive:  ml-20m.zip\n",
      "   creating: ml-20m/\n",
      "  inflating: ml-20m/genome-scores.csv  \n",
      "  inflating: ml-20m/genome-tags.csv  \n",
      "  inflating: ml-20m/links.csv        \n",
      "  inflating: ml-20m/movies.csv       \n",
      "  inflating: ml-20m/ratings.csv      \n",
      "  inflating: ml-20m/README.txt       \n",
      "  inflating: ml-20m/tags.csv         \n",
      "ml-20m\n",
      "ml-20m.zip\n",
      "\n",
      "\n",
      "\u001b[32;1m Let's see some movie data... \u001b[0m\n",
      "\n",
      "movieId,title,genres\n",
      "1,Toy Story (1995),Adventure|Animation|Children|Comedy|Fantasy\n",
      "2,Jumanji (1995),Adventure|Children|Fantasy\n",
      "3,Grumpier Old Men (1995),Comedy|Romance\n",
      "4,Waiting to Exhale (1995),Comedy|Drama|Romance\n",
      "5,Father of the Bride Part II (1995),Comedy\n",
      "6,Heat (1995),Action|Crime|Thriller\n",
      "7,Sabrina (1995),Comedy|Romance\n",
      "8,Tom and Huck (1995),Adventure|Children\n",
      "9,Sudden Death (1995),Action\n",
      "10,GoldenEye (1995),Action|Adventure|Thriller\n",
      "11,\"American President, The (1995)\",Comedy|Drama|Romance\n",
      "12,Dracula: Dead and Loving It (1995),Comedy|Horror\n",
      "13,Balto (1995),Adventure|Animation|Children\n",
      "14,Nixon (1995),Drama\n",
      "15,Cutthroat Island (1995),Action|Adventure|Romance\n",
      "16,Casino (1995),Crime|Drama\n",
      "17,Sense and Sensibility (1995),Drama|Romance\n",
      "18,Four Rooms (1995),Comedy\n",
      "19,Ace Ventura: When Nature Calls (1995),Comedy\n",
      "\n",
      "\n",
      "\u001b[32;1m Let's see some ratings data... \u001b[0m\n",
      "\n",
      "userId,movieId,rating,timestamp\n",
      "1,2,3.5,1112486027\n",
      "1,29,3.5,1112484676\n",
      "1,32,3.5,1112484819\n",
      "1,47,3.5,1112484727\n",
      "1,50,3.5,1112484580\n",
      "1,112,3.5,1094785740\n",
      "1,151,4.0,1094785734\n",
      "1,223,4.0,1112485573\n",
      "1,253,4.0,1112484940\n"
     ]
    },
    {
     "name": "stderr",
     "output_type": "stream",
     "text": [
      "  % Total    % Received % Xferd  Average Speed   Time    Time     Time  Current\n",
      "                                 Dload  Upload   Total   Spent    Left  Speed\n",
      "100  189M  100  189M    0     0  41.0M      0  0:00:04  0:00:04 --:--:-- 44.1M\n"
     ]
    }
   ],
   "source": [
    "%%bash\n",
    "# Create a local directory for the .zip of 20 Million records of movielens data\n",
    "rm -r -f bqml_data\n",
    "mkdir bqml_data\n",
    "cd bqml_data\n",
    "curl -O 'http://files.grouplens.org/datasets/movielens/ml-20m.zip'\n",
    "unzip ml-20m.zip\n",
    "ls\n",
    "\n",
    "# show some of the raw data\n",
    "printf \"\\n\\n\\033[32;1m Let's see some movie data... \\033[0m\\n\\n\";\n",
    "head --lines=20 'ml-20m/movies.csv'\n",
    "\n",
    "printf \"\\n\\n\\033[32;1m Let's see some ratings data... \\033[0m\\n\\n\";\n",
    "head --lines=10 'ml-20m/ratings.csv'"
   ]
  },
  {
   "cell_type": "markdown",
   "metadata": {},
   "source": [
    "### Load movie ratings and metadata into new `movielens` BigQuery dataset\n",
    "\n",
    "Run the below bq command line script to:\n",
    "1. create a `movielens` BigQuery dataset if it doesnt exist\n",
    "2. load the `ratings` and `movies` into two new tables\n",
    "\n",
    "__Note:__ This loading process will take 3 - 5 minutes"
   ]
  },
  {
   "cell_type": "code",
   "execution_count": 13,
   "metadata": {},
   "outputs": [
    {
     "name": "stdout",
     "output_type": "stream",
     "text": [
      "BigQuery dataset movielens already exists, let's not recreate it.\n",
      "\n",
      "\n",
      "\n",
      "\n"
     ]
    },
    {
     "name": "stderr",
     "output_type": "stream",
     "text": [
      "Waiting on bqjob_r24722e65f65f835d_0000016de104142b_1 ... (2s) Current status: DONE    "
     ]
    }
   ],
   "source": [
    "%%bash\n",
    "# Create the `movielens` dataset if it doesnt exist already\n",
    "datasetexists=$(bq ls -d | grep -w movielens)\n",
    "\n",
    "if [ -n \"$datasetexists\" ]; then\n",
    "    echo -e \"BigQuery dataset movielens already exists, let's not recreate it.\"\n",
    "\n",
    "else\n",
    "    echo \"Creating BigQuery dataset titled: movielens\"\n",
    "    \n",
    "    bq --location=US mk --dataset \\\n",
    "        --description 'Movie Recommendations' \\\n",
    "        $PROJECT:movielens\n",
    "    echo \"\\nHere are your current datasets:\"\n",
    "    bq ls\n",
    "fi\n",
    "    \n",
    "# Load the movie `ratings` and `movies` CSVs into BigQuery\n",
    "bq --location=US \\\n",
    "load \\\n",
    "    --replace=true \\\n",
    "    --source_format=CSV \\\n",
    "    --autodetect movielens.ratings bqml_data/ml-20m/ratings.csv\n",
    "\n",
    "bq --location=US \\\n",
    "load \\\n",
    "    --replace=true \\\n",
    "    --source_format=CSV \\\n",
    "    --autodetect movielens.movies_raw bqml_data/ml-20m/movies.csv"
   ]
  },
  {
   "cell_type": "markdown",
   "metadata": {},
   "source": [
    "## Exploring the data \n",
    "Two tables should now be available in <a href=\"https://console.cloud.google.com/bigquery\">BigQuery</a>. Run the below query which uses BigQuery's stored metadata about your dataset to return it's size and number of rows."
   ]
  },
  {
   "cell_type": "code",
   "execution_count": 16,
   "metadata": {},
   "outputs": [
    {
     "data": {
      "text/html": [
       "<div>\n",
       "<style scoped>\n",
       "    .dataframe tbody tr th:only-of-type {\n",
       "        vertical-align: middle;\n",
       "    }\n",
       "\n",
       "    .dataframe tbody tr th {\n",
       "        vertical-align: top;\n",
       "    }\n",
       "\n",
       "    .dataframe thead th {\n",
       "        text-align: right;\n",
       "    }\n",
       "</style>\n",
       "<table border=\"1\" class=\"dataframe\">\n",
       "  <thead>\n",
       "    <tr style=\"text-align: right;\">\n",
       "      <th></th>\n",
       "      <th>dataset_id</th>\n",
       "      <th>table_id</th>\n",
       "      <th>size_gb</th>\n",
       "      <th>creation_time</th>\n",
       "      <th>last_modified_time</th>\n",
       "      <th>row_count</th>\n",
       "      <th>type</th>\n",
       "    </tr>\n",
       "  </thead>\n",
       "  <tbody>\n",
       "    <tr>\n",
       "      <td>0</td>\n",
       "      <td>movielens</td>\n",
       "      <td>ratings</td>\n",
       "      <td>0.64</td>\n",
       "      <td>2019-10-18 22:05:30.258000+00:00</td>\n",
       "      <td>2019-10-18 22:36:34.421000+00:00</td>\n",
       "      <td>20000263</td>\n",
       "      <td>table</td>\n",
       "    </tr>\n",
       "    <tr>\n",
       "      <td>1</td>\n",
       "      <td>movielens</td>\n",
       "      <td>movies_raw</td>\n",
       "      <td>0.00</td>\n",
       "      <td>2019-10-18 22:36:47.777000+00:00</td>\n",
       "      <td>2019-10-18 22:36:47.777000+00:00</td>\n",
       "      <td>27278</td>\n",
       "      <td>table</td>\n",
       "    </tr>\n",
       "  </tbody>\n",
       "</table>\n",
       "</div>"
      ],
      "text/plain": [
       "  dataset_id    table_id  size_gb                    creation_time  \\\n",
       "0  movielens     ratings     0.64 2019-10-18 22:05:30.258000+00:00   \n",
       "1  movielens  movies_raw     0.00 2019-10-18 22:36:47.777000+00:00   \n",
       "\n",
       "                last_modified_time  row_count   type  \n",
       "0 2019-10-18 22:36:34.421000+00:00   20000263  table  \n",
       "1 2019-10-18 22:36:47.777000+00:00      27278  table  "
      ]
     },
     "execution_count": 16,
     "metadata": {},
     "output_type": "execute_result"
    }
   ],
   "source": [
    "%%bigquery --project $PROJECT\n",
    "SELECT \n",
    "    dataset_id,\n",
    "    table_id,\n",
    "    -- Convert bytes to GB.\n",
    "    ROUND(size_bytes/pow(10,9),2) as size_gb,\n",
    "    -- Convert UNIX EPOCH to a timestamp.\n",
    "    TIMESTAMP_MILLIS(creation_time) AS creation_time,\n",
    "    TIMESTAMP_MILLIS(last_modified_time) as last_modified_time,\n",
    "    row_count,\n",
    "    CASE \n",
    "        WHEN type = 1 THEN 'table'\n",
    "        WHEN type = 2 THEN 'view'\n",
    "    ELSE NULL\n",
    "    END AS type\n",
    "FROM\n",
    "  movielens.__TABLES__\n",
    "ORDER BY size_gb DESC"
   ]
  },
  {
   "cell_type": "markdown",
   "metadata": {},
   "source": [
    "As expected with the ml-20m dataset, we have 20 million rows of ratings data on ~27k movies. Great!"
   ]
  },
  {
   "cell_type": "markdown",
   "metadata": {},
   "source": [
    "### Understanding ratings and recommendations\n",
    "\n",
    "[Collaborative filtering](https://en.wikipedia.org/wiki/Collaborative_filtering) provides a way to generate product recommendations for users, or user targeting for products. The starting point is a table, `movielens.ratings`, with three columns: a user id, an item id, and the rating that the user gave the product. This table can be sparse -- users don’t have to rate all products. Then, based on just the ratings, the technique finds similar users and similar products and determines the rating that a user would give an unseen product. Then, we can recommend the products with the highest predicted ratings to users, or target products at users with the highest predicted ratings.\n",
    "\n",
    "Let's take a look at the ratings data:"
   ]
  },
  {
   "cell_type": "code",
   "execution_count": 21,
   "metadata": {},
   "outputs": [
    {
     "data": {
      "text/html": [
       "<div>\n",
       "<style scoped>\n",
       "    .dataframe tbody tr th:only-of-type {\n",
       "        vertical-align: middle;\n",
       "    }\n",
       "\n",
       "    .dataframe tbody tr th {\n",
       "        vertical-align: top;\n",
       "    }\n",
       "\n",
       "    .dataframe thead th {\n",
       "        text-align: right;\n",
       "    }\n",
       "</style>\n",
       "<table border=\"1\" class=\"dataframe\">\n",
       "  <thead>\n",
       "    <tr style=\"text-align: right;\">\n",
       "      <th></th>\n",
       "      <th>userId</th>\n",
       "      <th>movieId</th>\n",
       "      <th>rating</th>\n",
       "      <th>timestamp</th>\n",
       "      <th>rated_on</th>\n",
       "    </tr>\n",
       "  </thead>\n",
       "  <tbody>\n",
       "    <tr>\n",
       "      <td>0</td>\n",
       "      <td>8</td>\n",
       "      <td>185</td>\n",
       "      <td>2.0</td>\n",
       "      <td>834586861</td>\n",
       "      <td>1996-06-12 13:41:01+00:00</td>\n",
       "    </tr>\n",
       "    <tr>\n",
       "      <td>1</td>\n",
       "      <td>18</td>\n",
       "      <td>1958</td>\n",
       "      <td>2.0</td>\n",
       "      <td>1195573225</td>\n",
       "      <td>2007-11-20 15:40:25+00:00</td>\n",
       "    </tr>\n",
       "    <tr>\n",
       "      <td>2</td>\n",
       "      <td>46</td>\n",
       "      <td>333</td>\n",
       "      <td>2.0</td>\n",
       "      <td>846354776</td>\n",
       "      <td>1996-10-26 18:32:56+00:00</td>\n",
       "    </tr>\n",
       "    <tr>\n",
       "      <td>3</td>\n",
       "      <td>56</td>\n",
       "      <td>3326</td>\n",
       "      <td>2.0</td>\n",
       "      <td>977502624</td>\n",
       "      <td>2000-12-22 16:30:24+00:00</td>\n",
       "    </tr>\n",
       "    <tr>\n",
       "      <td>4</td>\n",
       "      <td>100</td>\n",
       "      <td>427</td>\n",
       "      <td>2.0</td>\n",
       "      <td>835720568</td>\n",
       "      <td>1996-06-25 16:36:08+00:00</td>\n",
       "    </tr>\n",
       "    <tr>\n",
       "      <td>5</td>\n",
       "      <td>104</td>\n",
       "      <td>2590</td>\n",
       "      <td>2.0</td>\n",
       "      <td>944929472</td>\n",
       "      <td>1999-12-11 16:24:32+00:00</td>\n",
       "    </tr>\n",
       "    <tr>\n",
       "      <td>6</td>\n",
       "      <td>104</td>\n",
       "      <td>3153</td>\n",
       "      <td>2.0</td>\n",
       "      <td>944919977</td>\n",
       "      <td>1999-12-11 13:46:17+00:00</td>\n",
       "    </tr>\n",
       "    <tr>\n",
       "      <td>7</td>\n",
       "      <td>108</td>\n",
       "      <td>172</td>\n",
       "      <td>2.0</td>\n",
       "      <td>836569780</td>\n",
       "      <td>1996-07-05 12:29:40+00:00</td>\n",
       "    </tr>\n",
       "    <tr>\n",
       "      <td>8</td>\n",
       "      <td>128</td>\n",
       "      <td>153</td>\n",
       "      <td>2.0</td>\n",
       "      <td>900721433</td>\n",
       "      <td>1998-07-18 00:23:53+00:00</td>\n",
       "    </tr>\n",
       "    <tr>\n",
       "      <td>9</td>\n",
       "      <td>129</td>\n",
       "      <td>80748</td>\n",
       "      <td>2.0</td>\n",
       "      <td>1287115184</td>\n",
       "      <td>2010-10-15 03:59:44+00:00</td>\n",
       "    </tr>\n",
       "  </tbody>\n",
       "</table>\n",
       "</div>"
      ],
      "text/plain": [
       "   userId  movieId  rating   timestamp                  rated_on\n",
       "0       8      185     2.0   834586861 1996-06-12 13:41:01+00:00\n",
       "1      18     1958     2.0  1195573225 2007-11-20 15:40:25+00:00\n",
       "2      46      333     2.0   846354776 1996-10-26 18:32:56+00:00\n",
       "3      56     3326     2.0   977502624 2000-12-22 16:30:24+00:00\n",
       "4     100      427     2.0   835720568 1996-06-25 16:36:08+00:00\n",
       "5     104     2590     2.0   944929472 1999-12-11 16:24:32+00:00\n",
       "6     104     3153     2.0   944919977 1999-12-11 13:46:17+00:00\n",
       "7     108      172     2.0   836569780 1996-07-05 12:29:40+00:00\n",
       "8     128      153     2.0   900721433 1998-07-18 00:23:53+00:00\n",
       "9     129    80748     2.0  1287115184 2010-10-15 03:59:44+00:00"
      ]
     },
     "execution_count": 21,
     "metadata": {},
     "output_type": "execute_result"
    }
   ],
   "source": [
    "%%bigquery --project $PROJECT\n",
    "SELECT \n",
    "    *, \n",
    "    TIMESTAMP_SECONDS(timestamp) AS rated_on\n",
    "FROM movielens.ratings\n",
    "LIMIT 10"
   ]
  },
  {
   "cell_type": "markdown",
   "metadata": {},
   "source": [
    "### Exploring movie data\n",
    "\n",
    "On examining the first few movies using the query following query, we can see that the genres column is a formatted string:"
   ]
  },
  {
   "cell_type": "code",
   "execution_count": 22,
   "metadata": {},
   "outputs": [
    {
     "data": {
      "text/html": [
       "<div>\n",
       "<style scoped>\n",
       "    .dataframe tbody tr th:only-of-type {\n",
       "        vertical-align: middle;\n",
       "    }\n",
       "\n",
       "    .dataframe tbody tr th {\n",
       "        vertical-align: top;\n",
       "    }\n",
       "\n",
       "    .dataframe thead th {\n",
       "        text-align: right;\n",
       "    }\n",
       "</style>\n",
       "<table border=\"1\" class=\"dataframe\">\n",
       "  <thead>\n",
       "    <tr style=\"text-align: right;\">\n",
       "      <th></th>\n",
       "      <th>movieId</th>\n",
       "      <th>title</th>\n",
       "      <th>genres</th>\n",
       "    </tr>\n",
       "  </thead>\n",
       "  <tbody>\n",
       "    <tr>\n",
       "      <td>0</td>\n",
       "      <td>3</td>\n",
       "      <td>Grumpier Old Men (1995)</td>\n",
       "      <td>Comedy|Romance</td>\n",
       "    </tr>\n",
       "    <tr>\n",
       "      <td>1</td>\n",
       "      <td>4</td>\n",
       "      <td>Waiting to Exhale (1995)</td>\n",
       "      <td>Comedy|Drama|Romance</td>\n",
       "    </tr>\n",
       "    <tr>\n",
       "      <td>2</td>\n",
       "      <td>2</td>\n",
       "      <td>Jumanji (1995)</td>\n",
       "      <td>Adventure|Children|Fantasy</td>\n",
       "    </tr>\n",
       "    <tr>\n",
       "      <td>3</td>\n",
       "      <td>1</td>\n",
       "      <td>Toy Story (1995)</td>\n",
       "      <td>Adventure|Animation|Children|Comedy|Fantasy</td>\n",
       "    </tr>\n",
       "  </tbody>\n",
       "</table>\n",
       "</div>"
      ],
      "text/plain": [
       "   movieId                     title  \\\n",
       "0        3   Grumpier Old Men (1995)   \n",
       "1        4  Waiting to Exhale (1995)   \n",
       "2        2            Jumanji (1995)   \n",
       "3        1          Toy Story (1995)   \n",
       "\n",
       "                                        genres  \n",
       "0                               Comedy|Romance  \n",
       "1                         Comedy|Drama|Romance  \n",
       "2                   Adventure|Children|Fantasy  \n",
       "3  Adventure|Animation|Children|Comedy|Fantasy  "
      ]
     },
     "execution_count": 22,
     "metadata": {},
     "output_type": "execute_result"
    }
   ],
   "source": [
    "%%bigquery --project $PROJECT\n",
    "SELECT *\n",
    "FROM movielens.movies_raw\n",
    "WHERE movieId < 5"
   ]
  },
  {
   "cell_type": "markdown",
   "metadata": {},
   "source": [
    "We can parse the genres into an array using the `SPLIT` function and create a new `movies` table as follows:"
   ]
  },
  {
   "cell_type": "code",
   "execution_count": 24,
   "metadata": {},
   "outputs": [
    {
     "data": {
      "text/html": [
       "<div>\n",
       "<style scoped>\n",
       "    .dataframe tbody tr th:only-of-type {\n",
       "        vertical-align: middle;\n",
       "    }\n",
       "\n",
       "    .dataframe tbody tr th {\n",
       "        vertical-align: top;\n",
       "    }\n",
       "\n",
       "    .dataframe thead th {\n",
       "        text-align: right;\n",
       "    }\n",
       "</style>\n",
       "<table border=\"1\" class=\"dataframe\">\n",
       "  <thead>\n",
       "    <tr style=\"text-align: right;\">\n",
       "      <th></th>\n",
       "      <th>movieId</th>\n",
       "      <th>title</th>\n",
       "      <th>genres</th>\n",
       "    </tr>\n",
       "  </thead>\n",
       "  <tbody>\n",
       "    <tr>\n",
       "      <td>0</td>\n",
       "      <td>4</td>\n",
       "      <td>Waiting to Exhale (1995)</td>\n",
       "      <td>[Comedy, Drama, Romance]</td>\n",
       "    </tr>\n",
       "    <tr>\n",
       "      <td>1</td>\n",
       "      <td>3</td>\n",
       "      <td>Grumpier Old Men (1995)</td>\n",
       "      <td>[Comedy, Romance]</td>\n",
       "    </tr>\n",
       "    <tr>\n",
       "      <td>2</td>\n",
       "      <td>2</td>\n",
       "      <td>Jumanji (1995)</td>\n",
       "      <td>[Adventure, Children, Fantasy]</td>\n",
       "    </tr>\n",
       "    <tr>\n",
       "      <td>3</td>\n",
       "      <td>1</td>\n",
       "      <td>Toy Story (1995)</td>\n",
       "      <td>[Adventure, Animation, Children, Comedy, Fantasy]</td>\n",
       "    </tr>\n",
       "  </tbody>\n",
       "</table>\n",
       "</div>"
      ],
      "text/plain": [
       "   movieId                     title  \\\n",
       "0        4  Waiting to Exhale (1995)   \n",
       "1        3   Grumpier Old Men (1995)   \n",
       "2        2            Jumanji (1995)   \n",
       "3        1          Toy Story (1995)   \n",
       "\n",
       "                                              genres  \n",
       "0                           [Comedy, Drama, Romance]  \n",
       "1                                  [Comedy, Romance]  \n",
       "2                     [Adventure, Children, Fantasy]  \n",
       "3  [Adventure, Animation, Children, Comedy, Fantasy]  "
      ]
     },
     "execution_count": 24,
     "metadata": {},
     "output_type": "execute_result"
    }
   ],
   "source": [
    "%%bigquery --project $PROJECT\n",
    "CREATE OR REPLACE TABLE movielens.movies AS\n",
    "    SELECT * REPLACE(SPLIT(genres, \"|\") AS genres)\n",
    "    FROM movielens.movies_raw;\n",
    "    \n",
    "SELECT *\n",
    "FROM movielens.movies\n",
    "WHERE movieId < 5;"
   ]
  },
  {
   "cell_type": "markdown",
   "metadata": {},
   "source": [
    "BigQuery natively supports array data types and we're going to need them for our vectors next as part of matrix factorization."
   ]
  },
  {
   "cell_type": "markdown",
   "metadata": {},
   "source": [
    "## Matrix factorization\n",
    "Matrix factorization is a collaborative filtering technique that relies on factorizing the ratings matrix into two vectors called the `user factors` and the `item factors`. The user factors is a low-dimensional representation of a user_id and the item factors similarly represents an item_id.\n",
    "\n",
    "We can create the recommender model using [BigQuery ML](https://cloud.google.com/bigquery-ml/docs/reference/standard-sql/bigqueryml-syntax-create) and specifying `matrix_factorization` for the model type. Note that at the time of writing this model is still in Alpha and may not be available everywhere yet.\n",
    "\n",
    "Run the below SQL code to create the recommendation model on movie data\n",
    "\n",
    "__Note:__ Training the model __takes 30 minutes__. Feel free to skip this step as we have an already trained model you can use!"
   ]
  },
  {
   "cell_type": "code",
   "execution_count": null,
   "metadata": {},
   "outputs": [],
   "source": [
    "%%bigquery --project $PROJECT\n",
    "CREATE OR REPLACE MODEL movielens.recommender\n",
    "options(model_type='matrix_factorization',\n",
    "        user_col='userId', item_col='movieId', rating_col='rating')\n",
    "AS\n",
    "\n",
    "SELECT \n",
    "userId, movieId, rating\n",
    "FROM movielens.ratings"
   ]
  },
  {
   "cell_type": "code",
   "execution_count": 25,
   "metadata": {},
   "outputs": [
    {
     "data": {
      "text/html": [
       "<div>\n",
       "<style scoped>\n",
       "    .dataframe tbody tr th:only-of-type {\n",
       "        vertical-align: middle;\n",
       "    }\n",
       "\n",
       "    .dataframe tbody tr th {\n",
       "        vertical-align: top;\n",
       "    }\n",
       "\n",
       "    .dataframe thead th {\n",
       "        text-align: right;\n",
       "    }\n",
       "</style>\n",
       "<table border=\"1\" class=\"dataframe\">\n",
       "  <thead>\n",
       "    <tr style=\"text-align: right;\">\n",
       "      <th></th>\n",
       "      <th>training_run</th>\n",
       "      <th>iteration</th>\n",
       "      <th>loss</th>\n",
       "      <th>eval_loss</th>\n",
       "      <th>duration_ms</th>\n",
       "    </tr>\n",
       "  </thead>\n",
       "  <tbody>\n",
       "    <tr>\n",
       "      <td>0</td>\n",
       "      <td>0</td>\n",
       "      <td>4</td>\n",
       "      <td>0.531457</td>\n",
       "      <td>16.101844</td>\n",
       "      <td>211213</td>\n",
       "    </tr>\n",
       "    <tr>\n",
       "      <td>1</td>\n",
       "      <td>0</td>\n",
       "      <td>3</td>\n",
       "      <td>0.540680</td>\n",
       "      <td>19.061989</td>\n",
       "      <td>877333</td>\n",
       "    </tr>\n",
       "    <tr>\n",
       "      <td>2</td>\n",
       "      <td>0</td>\n",
       "      <td>2</td>\n",
       "      <td>0.555206</td>\n",
       "      <td>29.624823</td>\n",
       "      <td>214670</td>\n",
       "    </tr>\n",
       "    <tr>\n",
       "      <td>3</td>\n",
       "      <td>0</td>\n",
       "      <td>1</td>\n",
       "      <td>0.575037</td>\n",
       "      <td>167.012542</td>\n",
       "      <td>987004</td>\n",
       "    </tr>\n",
       "    <tr>\n",
       "      <td>4</td>\n",
       "      <td>0</td>\n",
       "      <td>0</td>\n",
       "      <td>66.468334</td>\n",
       "      <td>653898.138258</td>\n",
       "      <td>821665</td>\n",
       "    </tr>\n",
       "  </tbody>\n",
       "</table>\n",
       "</div>"
      ],
      "text/plain": [
       "   training_run  iteration       loss      eval_loss  duration_ms\n",
       "0             0          4   0.531457      16.101844       211213\n",
       "1             0          3   0.540680      19.061989       877333\n",
       "2             0          2   0.555206      29.624823       214670\n",
       "3             0          1   0.575037     167.012542       987004\n",
       "4             0          0  66.468334  653898.138258       821665"
      ]
     },
     "execution_count": 25,
     "metadata": {},
     "output_type": "execute_result"
    }
   ],
   "source": [
    "%%bigquery --project $PROJECT\n",
    "SELECT *\n",
    "-- Note: remove cloud-training-demos if you are using your own model: \n",
    "FROM ML.TRAINING_INFO(MODEL `cloud-training-demos.movielens.recommender`)"
   ]
  },
  {
   "cell_type": "markdown",
   "metadata": {},
   "source": [
    "Note that we create a model as usual, except that the model_type is matrix_factorization and that we have to identify which columns play what roles in the collaborative filtering setup.\n",
    "\n",
    "What did you get? Our model took an hour to train, and the training loss starts out extremely bad and gets driven down to near-zero over next the four iterations:\n",
    "\n",
    "<table>\n",
    "  <tr>\n",
    "    <th>Iteration</th>\n",
    "    <th>Training Data Loss</th>\n",
    "    <th>Evaluation Data Loss</th>\n",
    "    <th>Duration (seconds)</th>\n",
    "  </tr>\n",
    "  <tr>\n",
    "    <td>4</td>\n",
    "    <td>0.5734</td>\n",
    "    <td>172.4057</td>\n",
    "    <td>180.99</td>\n",
    "  </tr>\n",
    "  <tr>\n",
    "    <td>3</td>\n",
    "    <td>0.5826</td>\n",
    "    <td>187.2103</td>\n",
    "    <td>1,040.06</td>\n",
    "  </tr>\n",
    "  <tr>\n",
    "    <td>2</td>\n",
    "    <td>0.6531</td>\n",
    "    <td>4,758.2944</td>\n",
    "    <td>219.46</td>\n",
    "  </tr>\n",
    "  <tr>\n",
    "    <td>1</td>\n",
    "    <td>1.9776</td>\n",
    "    <td>6,297.2573</td>\n",
    "    <td>1,093.76</td>\n",
    "  </tr>\n",
    "  <tr>\n",
    "    <td>0</td>\n",
    "    <td>63,287,833,220.5795</td>\n",
    "    <td>168,995,333.0464</td>\n",
    "    <td>1,091.21</td>\n",
    "  </tr>\n",
    "</table>"
   ]
  },
  {
   "cell_type": "markdown",
   "metadata": {},
   "source": [
    "### Prevent the model from memorizing training data with regularization\n",
    "\n",
    "However, the evaluation data loss is quite high, and much higher than the training data loss. This indicates that overfitting is happening, and so we need to add some [regularization](https://en.wikipedia.org/wiki/Regularization_(mathematics)). Let’s do that next. Note the added [l2_reg=0.2](https://cloud.google.com/bigquery-ml/docs/reference/standard-sql/bigqueryml-syntax-create#l2_reg)\n",
    "\n",
    "(<b>Optional</b>, takes 30 minutes -- again you can use our trained model so you don't have to wait):"
   ]
  },
  {
   "cell_type": "code",
   "execution_count": null,
   "metadata": {},
   "outputs": [],
   "source": [
    "%%bigquery --project $PROJECT\n",
    "CREATE OR REPLACE MODEL movielens.recommender_l2\n",
    "options(model_type='matrix_factorization',\n",
    "        user_col='userId', item_col='movieId', \n",
    "        rating_col='rating', l2_reg=0.2)\n",
    "AS\n",
    "\n",
    "SELECT \n",
    "userId, movieId, rating\n",
    "FROM movielens.ratings"
   ]
  },
  {
   "cell_type": "code",
   "execution_count": 27,
   "metadata": {},
   "outputs": [
    {
     "data": {
      "text/html": [
       "<div>\n",
       "<style scoped>\n",
       "    .dataframe tbody tr th:only-of-type {\n",
       "        vertical-align: middle;\n",
       "    }\n",
       "\n",
       "    .dataframe tbody tr th {\n",
       "        vertical-align: top;\n",
       "    }\n",
       "\n",
       "    .dataframe thead th {\n",
       "        text-align: right;\n",
       "    }\n",
       "</style>\n",
       "<table border=\"1\" class=\"dataframe\">\n",
       "  <thead>\n",
       "    <tr style=\"text-align: right;\">\n",
       "      <th></th>\n",
       "      <th>training_run</th>\n",
       "      <th>iteration</th>\n",
       "      <th>loss</th>\n",
       "      <th>eval_loss</th>\n",
       "      <th>duration_ms</th>\n",
       "    </tr>\n",
       "  </thead>\n",
       "  <tbody>\n",
       "    <tr>\n",
       "      <td>0</td>\n",
       "      <td>0</td>\n",
       "      <td>1</td>\n",
       "      <td>0.634794</td>\n",
       "      <td>0.749306</td>\n",
       "      <td>885965</td>\n",
       "    </tr>\n",
       "    <tr>\n",
       "      <td>1</td>\n",
       "      <td>0</td>\n",
       "      <td>0</td>\n",
       "      <td>66.530996</td>\n",
       "      <td>48894.170685</td>\n",
       "      <td>931206</td>\n",
       "    </tr>\n",
       "  </tbody>\n",
       "</table>\n",
       "</div>"
      ],
      "text/plain": [
       "   training_run  iteration       loss     eval_loss  duration_ms\n",
       "0             0          1   0.634794      0.749306       885965\n",
       "1             0          0  66.530996  48894.170685       931206"
      ]
     },
     "execution_count": 27,
     "metadata": {},
     "output_type": "execute_result"
    }
   ],
   "source": [
    "%%bigquery --project $PROJECT\n",
    "SELECT *\n",
    "-- Note: remove cloud-training-demos if you are using your own model: \n",
    "FROM ML.TRAINING_INFO(MODEL `cloud-training-demos.movielens.recommender_l2`)"
   ]
  },
  {
   "cell_type": "markdown",
   "metadata": {},
   "source": [
    "Now, we get faster convergence (three iterations instead of five), and a lot less overfitting. Here are our results:\n",
    "\n",
    "<table>\n",
    "  <tr>\n",
    "    <th>Iteration</th>\n",
    "    <th>Training Data Loss</th>\n",
    "    <th>Evaluation Data Loss</th>\n",
    "    <th>Duration (seconds)</th>\n",
    "  </tr>\n",
    "  <tr>\n",
    "    <td>2</td>\n",
    "    <td>0.6509</td>\n",
    "    <td>1.4596</td>\n",
    "    <td>198.17</td>\n",
    "  </tr>\n",
    "  <tr>\n",
    "    <td>1</td>\n",
    "    <td>1.9829</td>\n",
    "    <td>33,814.3017</td>\n",
    "    <td>1,066.06</td>\n",
    "  </tr>\n",
    "  <tr>\n",
    "    <td>0</td>\n",
    "    <td>481,434,346,060.7928</td>\n",
    "    <td>2,156,993,687.7928</td>\n",
    "    <td>1,024.59</td>\n",
    "  </tr>\n",
    "</table>\n",
    "\n",
    "### Increasing the number of factors for the model\n",
    "\n",
    "By default, BigQuery sets the number of factors to be the log2 of the number of rows. In our case, since we have 20 million rows in the table, the number of factors would have been chosen to be 24. As with the number of clusters in K-Means clustering, this is a reasonable default but it is often worth experimenting with a number about 50% higher (36) and a number that is about a third lower (16):"
   ]
  },
  {
   "cell_type": "code",
   "execution_count": null,
   "metadata": {},
   "outputs": [],
   "source": [
    "%%bigquery --project $PROJECT\n",
    "CREATE OR REPLACE MODEL movielens.recommender_16\n",
    "options(model_type='matrix_factorization',\n",
    "        user_col='userId', item_col='movieId', \n",
    "        rating_col='rating', l2_reg=0.2, num_factors=16)\n",
    "AS\n",
    "\n",
    "SELECT \n",
    "userId, movieId, rating\n",
    "FROM movielens.ratings"
   ]
  },
  {
   "cell_type": "code",
   "execution_count": null,
   "metadata": {},
   "outputs": [],
   "source": [
    "%%bigquery --project $PROJECT\n",
    "SELECT *\n",
    "-- Note: remove cloud-training-demos if you are using your own model:\n",
    "FROM ML.TRAINING_INFO(MODEL `cloud-training-demos.movielens.recommender_16`)"
   ]
  },
  {
   "cell_type": "markdown",
   "metadata": {},
   "source": [
    "When we did that, we discovered that the evaluation loss was lower (0.97) with num_factors=16 than with num_factors=36 (1.67) or num_factors=24 (1.45). We could continue experimenting, but we are likely to see diminishing returns with further experimentation. So, let’s pick this as the final matrix factorization model and move on.\n",
    "\n",
    "## Making recommendations\n",
    "\n",
    "With the trained model, we can now provide recommendations. For example, let’s find the best comedy movies to recommend to the user whose userId is 903. In the query below, we are calling ML.PREDICT passing in the trained recommendation model and providing a set of movieId and userId to carry out the predictions on. In this case, it’s just one userId (903), but all movies whose genre includes Comedy."
   ]
  },
  {
   "cell_type": "code",
   "execution_count": null,
   "metadata": {},
   "outputs": [],
   "source": [
    "%%bigquery --project $PROJECT\n",
    "SELECT * FROM\n",
    "ML.PREDICT(MODEL `cloud-training-demos.movielens.recommender_16`, (\n",
    "  SELECT \n",
    "    movieId, title, 903 AS userId\n",
    "  FROM movielens.movies, UNNEST(genres) g\n",
    "  WHERE g = 'Comedy'\n",
    "))\n",
    "ORDER BY predicted_rating DESC\n",
    "LIMIT 5"
   ]
  },
  {
   "cell_type": "markdown",
   "metadata": {},
   "source": [
    "## Filtering out already rated movies\n",
    "Of course, this includes movies the user has already seen and rated in the past. Let’s remove them:\n"
   ]
  },
  {
   "cell_type": "code",
   "execution_count": null,
   "metadata": {},
   "outputs": [],
   "source": [
    "%%bigquery --project $PROJECT\n",
    "SELECT * FROM\n",
    "ML.PREDICT(MODEL `cloud-training-demos.movielens.recommender_16`, (\n",
    "  WITH seen AS (\n",
    "    SELECT ARRAY_AGG(movieId) AS movies \n",
    "    FROM movielens.ratings\n",
    "    WHERE userId = 903\n",
    "  )\n",
    "  SELECT \n",
    "    movieId, title, 903 AS userId\n",
    "  FROM movielens.movies, UNNEST(genres) g, seen\n",
    "  WHERE g = 'Comedy' AND movieId NOT IN UNNEST(seen.movies)\n",
    "))\n",
    "ORDER BY predicted_rating DESC\n",
    "LIMIT 5"
   ]
  },
  {
   "cell_type": "markdown",
   "metadata": {},
   "source": [
    "For this user, this happens to yield the same set of movies -- the top predicted ratings didn’t include any of the movies the user has already seen.\n",
    "\n",
    "## Customer targeting\n",
    "\n",
    "In the previous section, we looked at how to identify the top-rated movies for a specific user. Sometimes, we have a product and have to find the customers who are likely to appreciate it. Suppose, for example, we wish to get more reviews for movieId=96481 which has only one rating and we wish to send coupons to the 5 users who are likely to rate it the highest. We can identify those users using:"
   ]
  },
  {
   "cell_type": "code",
   "execution_count": null,
   "metadata": {},
   "outputs": [],
   "source": [
    "%%bigquery --project $PROJECT\n",
    "SELECT * FROM\n",
    "ML.PREDICT(MODEL `cloud-training-demos.movielens.recommender_16`, (\n",
    "  WITH allUsers AS (\n",
    "     SELECT DISTINCT userId\n",
    "     FROM movielens.ratings\n",
    "  )\n",
    "  SELECT \n",
    "    96481 AS movieId, \n",
    "    (SELECT title FROM movielens.movies WHERE movieId=96481) title,\n",
    "    userId\n",
    "  FROM\n",
    "    allUsers\n",
    "))\n",
    "ORDER BY predicted_rating DESC\n",
    "LIMIT 5"
   ]
  },
  {
   "cell_type": "markdown",
   "metadata": {},
   "source": [
    "### Batch predictions for all users and movies\n",
    "What if we wish to carry out predictions for every user and movie combination? Instead of having to pull distinct users and movies as in the previous query, a convenience function is provided to carry out batch predictions for all movieId and userId encountered during training. A limit is applied here, otherwise, all user-movie predictions will be returned and will crash the notebook."
   ]
  },
  {
   "cell_type": "code",
   "execution_count": null,
   "metadata": {},
   "outputs": [],
   "source": [
    "%%bigquery --project $PROJECT\n",
    "SELECT *\n",
    "FROM ML.RECOMMEND(MODEL `cloud-training-demos.movielens.recommender_16`)\n",
    "LIMIT 10"
   ]
  },
  {
   "cell_type": "markdown",
   "metadata": {},
   "source": [
    "As seen in a section above, it is possible to filter out movies the user has already seen and rated in the past. The reason already seen movies aren’t filtered out by default is that there are situations (think of restaurant recommendations, for example) where it is perfectly expected that we would need to recommend restaurants the user has liked in the past."
   ]
  },
  {
   "cell_type": "markdown",
   "metadata": {},
   "source": [
    "Copyright 2019 Google Inc. Licensed under the Apache License, Version 2.0 (the \"License\"); you may not use this file except in compliance with the License. You may obtain a copy of the License at http://www.apache.org/licenses/LICENSE-2.0 Unless required by applicable law or agreed to in writing, software distributed under the License is distributed on an \"AS IS\" BASIS, WITHOUT WARRANTIES OR CONDITIONS OF ANY KIND, either express or implied. See the License for the specific language governing permissions and limitations under the License."
   ]
  },
  {
   "cell_type": "code",
   "execution_count": null,
   "metadata": {},
   "outputs": [],
   "source": []
  }
 ],
 "metadata": {
  "kernelspec": {
   "display_name": "Python 3",
   "language": "python",
   "name": "python3"
  },
  "language_info": {
   "codemirror_mode": {
    "name": "ipython",
    "version": 3
   },
   "file_extension": ".py",
   "mimetype": "text/x-python",
   "name": "python",
   "nbconvert_exporter": "python",
   "pygments_lexer": "ipython3",
   "version": "3.5.3"
  }
 },
 "nbformat": 4,
 "nbformat_minor": 4
}
