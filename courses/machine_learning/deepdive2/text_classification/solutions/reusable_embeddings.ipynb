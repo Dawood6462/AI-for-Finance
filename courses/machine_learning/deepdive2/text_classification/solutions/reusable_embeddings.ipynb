{
 "cells": [
  {
   "cell_type": "markdown",
   "metadata": {},
   "source": [
    "# Reusable Embeddings\n",
    "\n",
    "**Learning Objectives**\n",
    "1. Learn how to use a pre-trained TF Hub text modules to generate sentence vectors\n",
    "1. Learn how to incorporate a pre-trained TF-Hub module into a Keras model\n",
    "\n",
    "\n",
    "## Introduction\n",
    "\n",
    "\n",
    "In this notebook, we will implement text models to recognize the probable source (Github, Tech-Crunch, or The New-York Times) of the titles we have in the title dataset we constructed in a previous lab.\n",
    "\n",
    "First, we will load and pre-process the texts and labels so that they are suitable to be fed to sequential Keras models with first layer being TF-hub pre-trained modules. Thanks to this first layer, we won't need to tokenize and integerize the text before passing it to our models. The pre-trained layer will take care of that for us, and consume directly raw text. However, we will still have to one-hot-encode each of the 3 classes into a 3 dimensional basis vector.\n",
    "\n",
    "Then we will build, train and compare simple DNN models starting with different pre-trained TF-Hub layers."
   ]
  },
  {
   "cell_type": "code",
   "execution_count": null,
   "metadata": {},
   "outputs": [],
   "source": [
    "# Ensure the right version of Tensorflow is installed.\n",
    "!pip freeze | grep tensorflow==2.0 || pip install tensorflow==2.0"
   ]
  },
  {
   "cell_type": "code",
   "execution_count": 1,
   "metadata": {},
   "outputs": [
    {
     "name": "stdout",
     "output_type": "stream",
     "text": [
      "2.0.0\n"
     ]
    }
   ],
   "source": [
    "import datetime\n",
    "import os\n",
    "import shutil\n",
    "\n",
    "import pandas as pd\n",
    "import tensorflow as tf\n",
    "from tensorflow.keras.callbacks import TensorBoard, EarlyStopping\n",
    "from tensorflow_hub import KerasLayer\n",
    "from tensorflow.keras.layers import Dense\n",
    "from tensorflow.keras.models import Sequential\n",
    "from tensorflow.keras.preprocessing.text import Tokenizer\n",
    "from tensorflow.keras.utils import to_categorical\n",
    "\n",
    "\n",
    "print(tf.__version__)"
   ]
  },
  {
   "cell_type": "code",
   "execution_count": 2,
   "metadata": {},
   "outputs": [],
   "source": [
    "%matplotlib inline"
   ]
  },
  {
   "cell_type": "markdown",
   "metadata": {},
   "source": [
    "Let's start by specifying where the information about the trained models will be saved as well as where our dataset is located:"
   ]
  },
  {
   "cell_type": "code",
   "execution_count": 3,
   "metadata": {},
   "outputs": [],
   "source": [
    "MODEL_DIR = \"./text_models\"\n",
    "DATA_DIR = \"./data\""
   ]
  },
  {
   "cell_type": "markdown",
   "metadata": {},
   "source": [
    "## Loading the dataset"
   ]
  },
  {
   "cell_type": "markdown",
   "metadata": {},
   "source": [
    "As in the previous labs, our dataset consists of titles of articles along with the label indicating from which source these articles have been taken from (GitHub, Tech-Crunch, or the New-York Times):"
   ]
  },
  {
   "cell_type": "code",
   "execution_count": 4,
   "metadata": {},
   "outputs": [
    {
     "name": "stdout",
     "output_type": "stream",
     "text": [
      "titles_full.csv  titles_sample.csv\n"
     ]
    }
   ],
   "source": [
    "ls ./data/"
   ]
  },
  {
   "cell_type": "code",
   "execution_count": 5,
   "metadata": {},
   "outputs": [
    {
     "data": {
      "text/html": [
       "<div>\n",
       "<style scoped>\n",
       "    .dataframe tbody tr th:only-of-type {\n",
       "        vertical-align: middle;\n",
       "    }\n",
       "\n",
       "    .dataframe tbody tr th {\n",
       "        vertical-align: top;\n",
       "    }\n",
       "\n",
       "    .dataframe thead th {\n",
       "        text-align: right;\n",
       "    }\n",
       "</style>\n",
       "<table border=\"1\" class=\"dataframe\">\n",
       "  <thead>\n",
       "    <tr style=\"text-align: right;\">\n",
       "      <th></th>\n",
       "      <th>title</th>\n",
       "      <th>source</th>\n",
       "    </tr>\n",
       "  </thead>\n",
       "  <tbody>\n",
       "    <tr>\n",
       "      <th>0</th>\n",
       "      <td>drones offer journalists a wider view</td>\n",
       "      <td>nytimes</td>\n",
       "    </tr>\n",
       "    <tr>\n",
       "      <th>1</th>\n",
       "      <td>an airliner outfitted to wash  rinse and repeat</td>\n",
       "      <td>nytimes</td>\n",
       "    </tr>\n",
       "    <tr>\n",
       "      <th>2</th>\n",
       "      <td>popcorn time is open source</td>\n",
       "      <td>github</td>\n",
       "    </tr>\n",
       "    <tr>\n",
       "      <th>3</th>\n",
       "      <td>threaded email notifications</td>\n",
       "      <td>github</td>\n",
       "    </tr>\n",
       "    <tr>\n",
       "      <th>4</th>\n",
       "      <td>show hn  betterwiki   view wikipedia articles ...</td>\n",
       "      <td>github</td>\n",
       "    </tr>\n",
       "  </tbody>\n",
       "</table>\n",
       "</div>"
      ],
      "text/plain": [
       "                                               title   source\n",
       "0              drones offer journalists a wider view  nytimes\n",
       "1    an airliner outfitted to wash  rinse and repeat  nytimes\n",
       "2                        popcorn time is open source   github\n",
       "3                       threaded email notifications   github\n",
       "4  show hn  betterwiki   view wikipedia articles ...   github"
      ]
     },
     "execution_count": 5,
     "metadata": {},
     "output_type": "execute_result"
    }
   ],
   "source": [
    "DATASET_NAME = \"titles_full.csv\"\n",
    "TITLE_SAMPLE_PATH = os.path.join(DATA_DIR, DATASET_NAME)\n",
    "COLUMNS = ['title', 'source']\n",
    "\n",
    "titles_df = pd.read_csv(TITLE_SAMPLE_PATH, header=None, names=COLUMNS)\n",
    "titles_df.head()"
   ]
  },
  {
   "cell_type": "markdown",
   "metadata": {},
   "source": [
    "Let's look again at the number of examples per label to make sure we have a well-balanced dataset:"
   ]
  },
  {
   "cell_type": "code",
   "execution_count": 6,
   "metadata": {},
   "outputs": [
    {
     "data": {
      "text/plain": [
       "github        36525\n",
       "techcrunch    30891\n",
       "nytimes       28787\n",
       "Name: source, dtype: int64"
      ]
     },
     "execution_count": 6,
     "metadata": {},
     "output_type": "execute_result"
    }
   ],
   "source": [
    "titles_df.source.value_counts()"
   ]
  },
  {
   "cell_type": "markdown",
   "metadata": {},
   "source": [
    "## Preparing the labels"
   ]
  },
  {
   "cell_type": "markdown",
   "metadata": {},
   "source": [
    "In this lab, we will use pre-trained [TF-Hub embeddings modules for english](https://tfhub.dev/s?q=tf2%20embeddings%20text%20english) for the first layer of our models. One immediate\n",
    "advantage of doing so is that the TF-Hub embedding module will take care for us of processing the raw text. \n",
    "This also means that our model will be able to consume text directly instead of sequences of integers representing the words.\n",
    "\n",
    "However, as before, we still need to preprocess the labels into one-hot-encoded vectors:"
   ]
  },
  {
   "cell_type": "code",
   "execution_count": 7,
   "metadata": {},
   "outputs": [],
   "source": [
    "CLASSES = {\n",
    "    'github': 0,\n",
    "    'nytimes': 1,\n",
    "    'techcrunch': 2\n",
    "}\n",
    "N_CLASSES = len(CLASSES)"
   ]
  },
  {
   "cell_type": "code",
   "execution_count": 8,
   "metadata": {},
   "outputs": [],
   "source": [
    "def encode_labels(sources):\n",
    "    classes = [CLASSES[source] for source in sources]\n",
    "    one_hots = to_categorical(classes, num_classes=N_CLASSES)\n",
    "    return one_hots"
   ]
  },
  {
   "cell_type": "code",
   "execution_count": 9,
   "metadata": {},
   "outputs": [
    {
     "data": {
      "text/plain": [
       "array([[0., 1., 0.],\n",
       "       [0., 1., 0.],\n",
       "       [1., 0., 0.],\n",
       "       [1., 0., 0.]], dtype=float32)"
      ]
     },
     "execution_count": 9,
     "metadata": {},
     "output_type": "execute_result"
    }
   ],
   "source": [
    "encode_labels(titles_df.source[:4])"
   ]
  },
  {
   "cell_type": "markdown",
   "metadata": {},
   "source": [
    "## Preparing the train/test splits"
   ]
  },
  {
   "cell_type": "markdown",
   "metadata": {},
   "source": [
    "Let's split our data into train and test splits:"
   ]
  },
  {
   "cell_type": "code",
   "execution_count": 10,
   "metadata": {},
   "outputs": [],
   "source": [
    "N_TRAIN = int(len(titles_df) * 0.95)\n",
    "\n",
    "titles_train, sources_train = (\n",
    "    titles_df.title[:N_TRAIN], titles_df.source[:N_TRAIN])\n",
    "\n",
    "titles_valid, sources_valid = (\n",
    "    titles_df.title[N_TRAIN:], titles_df.source[N_TRAIN:])"
   ]
  },
  {
   "cell_type": "markdown",
   "metadata": {},
   "source": [
    "To be on the safe side, we verify that the train and test splits\n",
    "have roughly the same number of examples per class.\n",
    "\n",
    "Since it is the case, accuracy will be a good metric to use to measure\n",
    "the performance of our models."
   ]
  },
  {
   "cell_type": "code",
   "execution_count": 11,
   "metadata": {},
   "outputs": [
    {
     "data": {
      "text/plain": [
       "github        34709\n",
       "techcrunch    29336\n",
       "nytimes       27347\n",
       "Name: source, dtype: int64"
      ]
     },
     "execution_count": 11,
     "metadata": {},
     "output_type": "execute_result"
    }
   ],
   "source": [
    "sources_train.value_counts()"
   ]
  },
  {
   "cell_type": "code",
   "execution_count": 12,
   "metadata": {},
   "outputs": [
    {
     "data": {
      "text/plain": [
       "github        1816\n",
       "techcrunch    1555\n",
       "nytimes       1440\n",
       "Name: source, dtype: int64"
      ]
     },
     "execution_count": 12,
     "metadata": {},
     "output_type": "execute_result"
    }
   ],
   "source": [
    "sources_valid.value_counts()"
   ]
  },
  {
   "cell_type": "markdown",
   "metadata": {},
   "source": [
    "Now let's create the features and labels we will feed our models with:"
   ]
  },
  {
   "cell_type": "code",
   "execution_count": 13,
   "metadata": {},
   "outputs": [],
   "source": [
    "X_train, Y_train = titles_train.values, encode_labels(sources_train)\n",
    "X_valid, Y_valid = titles_valid.values, encode_labels(sources_valid)"
   ]
  },
  {
   "cell_type": "code",
   "execution_count": 14,
   "metadata": {},
   "outputs": [
    {
     "data": {
      "text/plain": [
       "array(['drones offer journalists a wider view',\n",
       "       'an airliner outfitted to wash  rinse and repeat',\n",
       "       'popcorn time is open source'], dtype=object)"
      ]
     },
     "execution_count": 14,
     "metadata": {},
     "output_type": "execute_result"
    }
   ],
   "source": [
    "X_train[:3]"
   ]
  },
  {
   "cell_type": "code",
   "execution_count": 15,
   "metadata": {},
   "outputs": [
    {
     "data": {
      "text/plain": [
       "array([[0., 1., 0.],\n",
       "       [0., 1., 0.],\n",
       "       [1., 0., 0.]], dtype=float32)"
      ]
     },
     "execution_count": 15,
     "metadata": {},
     "output_type": "execute_result"
    }
   ],
   "source": [
    "Y_train[:3]"
   ]
  },
  {
   "cell_type": "markdown",
   "metadata": {},
   "source": [
    "## NNLM Model"
   ]
  },
  {
   "cell_type": "markdown",
   "metadata": {},
   "source": [
    "We will first try a word embedding pre-trained using a [Neural Probabilistic Language Model](http://www.jmlr.org/papers/volume3/bengio03a/bengio03a.pdf). TF-Hub has a 50-dimensional one called \n",
    "[nnlm-en-dim50-with-normalization](https://tfhub.dev/google/tf2-preview/nnlm-en-dim50/1), which also\n",
    "normalizes the vectors produced. \n",
    "\n",
    "Once loaded from its url, the TF-hub module can be used as a normal Keras layer in a sequential or functional model. Since we have enough data to fine-tune the parameters of the pre-trained embedding itself, we will set `trainable=True` in the `KerasLayer` that loads the pre-trained embedding:"
   ]
  },
  {
   "cell_type": "code",
   "execution_count": 16,
   "metadata": {},
   "outputs": [],
   "source": [
    "# TODO 1\n",
    "NNLM = \"https://tfhub.dev/google/tf2-preview/nnlm-en-dim50-with-normalization/1\"\n",
    "\n",
    "nnlm_module = KerasLayer(\n",
    "    NNLM, output_shape=[50], input_shape=[], dtype=tf.string, trainable=True)"
   ]
  },
  {
   "cell_type": "markdown",
   "metadata": {},
   "source": [
    "Note that this TF-Hub embedding produces a single 50-dimensional vector when passed a sentence:"
   ]
  },
  {
   "cell_type": "code",
   "execution_count": 17,
   "metadata": {},
   "outputs": [
    {
     "data": {
      "text/plain": [
       "<tf.Tensor: id=182, shape=(1, 50), dtype=float32, numpy=\n",
       "array([[ 0.1299611 ,  0.08171072,  0.06024609,  0.1897307 ,  0.1554303 ,\n",
       "         0.02832681,  0.20851292, -0.20073421, -0.1162339 ,  0.09962303,\n",
       "        -0.00823456,  0.07382201, -0.151453  , -0.03049451, -0.09065688,\n",
       "        -0.4422915 , -0.00984869, -0.05030105,  0.0120667 , -0.3166044 ,\n",
       "        -0.10787552, -0.23041075,  0.08485214,  0.04026556,  0.09290276,\n",
       "         0.26631656, -0.33125097, -0.06418459, -0.00408724, -0.01634568,\n",
       "        -0.20365101, -0.05161688,  0.08445277,  0.02203171, -0.37011603,\n",
       "        -0.24225973,  0.0447066 , -0.05840004, -0.02355968, -0.0995158 ,\n",
       "        -0.01159552,  0.01638035, -0.09878304,  0.06675767, -0.00144666,\n",
       "         0.00651569,  0.0162654 , -0.09303603, -0.0172936 ,  0.08206343]],\n",
       "      dtype=float32)>"
      ]
     },
     "execution_count": 17,
     "metadata": {},
     "output_type": "execute_result"
    }
   ],
   "source": [
    "# TODO 1\n",
    "nnlm_module(tf.constant([\"The dog is happy to see people in the street.\"]))"
   ]
  },
  {
   "cell_type": "markdown",
   "metadata": {},
   "source": [
    "## Swivel Model"
   ]
  },
  {
   "cell_type": "markdown",
   "metadata": {},
   "source": [
    "Then we will try a word embedding obtained using [Swivel](https://arxiv.org/abs/1602.02215), an algorithm that essentially factorizes word co-occurrence matrices to create the words embeddings. \n",
    "TF-Hub hosts the pretrained [gnews-swivel-20dim-with-oov](https://tfhub.dev/google/tf2-preview/gnews-swivel-20dim-with-oov/1) 20-dimensional Swivel module."
   ]
  },
  {
   "cell_type": "code",
   "execution_count": 18,
   "metadata": {},
   "outputs": [],
   "source": [
    "# TODO 1\n",
    "SWIVEL = \"https://tfhub.dev/google/tf2-preview/gnews-swivel-20dim-with-oov/1\"\n",
    "swivel_module = KerasLayer(\n",
    "    SWIVEL, output_shape=[20], input_shape=[], dtype=tf.string, trainable=True)"
   ]
  },
  {
   "cell_type": "markdown",
   "metadata": {},
   "source": [
    "Similarly as the previous pre-trained embedding, it outputs a single vector when passed a sentence:"
   ]
  },
  {
   "cell_type": "code",
   "execution_count": 19,
   "metadata": {},
   "outputs": [
    {
     "data": {
      "text/plain": [
       "<tf.Tensor: id=359, shape=(1, 20), dtype=float32, numpy=\n",
       "array([[ 0.9967701 , -0.3100155 ,  0.5889897 , -0.16765082, -0.6171738 ,\n",
       "        -1.1586996 , -0.8619045 ,  0.7281645 ,  0.32575002,  0.4754492 ,\n",
       "        -0.9272241 ,  0.41090095, -0.75389475, -0.31525993, -1.8918804 ,\n",
       "         0.6423996 ,  0.6801622 , -0.1335669 , -1.0017993 , -0.11908641]],\n",
       "      dtype=float32)>"
      ]
     },
     "execution_count": 19,
     "metadata": {},
     "output_type": "execute_result"
    }
   ],
   "source": [
    "# TODO 1\n",
    "swivel_module(tf.constant([\"The dog is happy to see people in the street.\"]))"
   ]
  },
  {
   "cell_type": "markdown",
   "metadata": {},
   "source": [
    "## Building the models"
   ]
  },
  {
   "cell_type": "markdown",
   "metadata": {},
   "source": [
    "Let's write a function that \n",
    "\n",
    "* takes as input an instance of a `KerasLayer` (i.e. the `swivel_module` or the `nnlm_module` we constructed above) as well as the name of the model (say `swivel` or `nnlm`)\n",
    "* returns a compiled Keras sequential model starting with this pre-trained TF-hub layer, adding one or more dense relu layers to it, and ending with a softmax layer giving the probability of each of the classes:"
   ]
  },
  {
   "cell_type": "code",
   "execution_count": 20,
   "metadata": {},
   "outputs": [],
   "source": [
    "def build_model(hub_module, name):\n",
    "    model = Sequential([\n",
    "        hub_module, # TODO 2\n",
    "        Dense(16, activation='relu'),\n",
    "        Dense(N_CLASSES, activation='softmax')\n",
    "    ], name=name)\n",
    "\n",
    "    model.compile(\n",
    "        optimizer='adam',\n",
    "        loss='categorical_crossentropy',\n",
    "        metrics=['accuracy']\n",
    "    )\n",
    "    return model"
   ]
  },
  {
   "cell_type": "markdown",
   "metadata": {},
   "source": [
    "Let's also wrap the training code into a `train_and_evaluate` function that \n",
    "* takes as input the training and validation data, as well as the compiled model itself, and the `batch_size`\n",
    "* trains the compiled model for 100 epochs at most, and does early-stopping when the validation loss is no longer decreasing\n",
    "* returns an `history` object, which will help us to plot the learning curves"
   ]
  },
  {
   "cell_type": "code",
   "execution_count": 21,
   "metadata": {},
   "outputs": [],
   "source": [
    "def train_and_evaluate(train_data, val_data, model, batch_size=5000):\n",
    "    X_train, Y_train = train_data\n",
    "\n",
    "    tf.random.set_seed(33)\n",
    "\n",
    "    model_dir = os.path.join(MODEL_DIR, model.name)\n",
    "    if tf.io.gfile.exists(model_dir):\n",
    "        tf.io.gfile.rmtree(model_dir)\n",
    "\n",
    "    history = model.fit(\n",
    "        X_train, Y_train,\n",
    "        epochs=100,\n",
    "        batch_size=batch_size,\n",
    "        validation_data=val_data,\n",
    "        callbacks=[EarlyStopping(), TensorBoard(model_dir)],\n",
    "    )\n",
    "    return history"
   ]
  },
  {
   "cell_type": "markdown",
   "metadata": {},
   "source": [
    "## Training NNLM"
   ]
  },
  {
   "cell_type": "code",
   "execution_count": 22,
   "metadata": {},
   "outputs": [],
   "source": [
    "data = (X_train, Y_train)\n",
    "val_data = (X_valid, Y_valid)"
   ]
  },
  {
   "cell_type": "code",
   "execution_count": 23,
   "metadata": {},
   "outputs": [
    {
     "name": "stdout",
     "output_type": "stream",
     "text": [
      "Train on 91392 samples, validate on 4811 samples\n",
      "Epoch 1/100\n",
      "91392/91392 [==============================] - 11s 120us/sample - loss: 1.0421 - accuracy: 0.4634 - val_loss: 0.9688 - val_accuracy: 0.5793\n",
      "Epoch 2/100\n",
      "91392/91392 [==============================] - 8s 82us/sample - loss: 0.8992 - accuracy: 0.6579 - val_loss: 0.8233 - val_accuracy: 0.7136\n",
      "Epoch 3/100\n",
      "91392/91392 [==============================] - 8s 82us/sample - loss: 0.7396 - accuracy: 0.7588 - val_loss: 0.6715 - val_accuracy: 0.7595\n",
      "Epoch 4/100\n",
      "91392/91392 [==============================] - 7s 82us/sample - loss: 0.5935 - accuracy: 0.8042 - val_loss: 0.5555 - val_accuracy: 0.7936\n",
      "Epoch 5/100\n",
      "91392/91392 [==============================] - 8s 84us/sample - loss: 0.4867 - accuracy: 0.8321 - val_loss: 0.4799 - val_accuracy: 0.8127\n",
      "Epoch 6/100\n",
      "91392/91392 [==============================] - 7s 82us/sample - loss: 0.4142 - accuracy: 0.8532 - val_loss: 0.4332 - val_accuracy: 0.8227\n",
      "Epoch 7/100\n",
      "91392/91392 [==============================] - 8s 83us/sample - loss: 0.3645 - accuracy: 0.8688 - val_loss: 0.4058 - val_accuracy: 0.8302\n",
      "Epoch 8/100\n",
      "91392/91392 [==============================] - 7s 81us/sample - loss: 0.3286 - accuracy: 0.8804 - val_loss: 0.3894 - val_accuracy: 0.8366\n",
      "Epoch 9/100\n",
      "91392/91392 [==============================] - 7s 81us/sample - loss: 0.3008 - accuracy: 0.8907 - val_loss: 0.3787 - val_accuracy: 0.8397\n",
      "Epoch 10/100\n",
      "91392/91392 [==============================] - 7s 82us/sample - loss: 0.2784 - accuracy: 0.8989 - val_loss: 0.3732 - val_accuracy: 0.8408\n",
      "Epoch 11/100\n",
      "91392/91392 [==============================] - 7s 81us/sample - loss: 0.2598 - accuracy: 0.9057 - val_loss: 0.3705 - val_accuracy: 0.8443\n",
      "Epoch 12/100\n",
      "91392/91392 [==============================] - 7s 81us/sample - loss: 0.2440 - accuracy: 0.9121 - val_loss: 0.3700 - val_accuracy: 0.8435\n",
      "Epoch 13/100\n",
      "91392/91392 [==============================] - 7s 80us/sample - loss: 0.2304 - accuracy: 0.9170 - val_loss: 0.3714 - val_accuracy: 0.8466\n"
     ]
    }
   ],
   "source": [
    "nnlm_model = build_model(nnlm_module, 'nnlm')\n",
    "nnlm_history = train_and_evaluate(data, val_data, nnlm_model)"
   ]
  },
  {
   "cell_type": "code",
   "execution_count": 24,
   "metadata": {},
   "outputs": [
    {
     "data": {
      "text/plain": [
       "<matplotlib.axes._subplots.AxesSubplot at 0x7f68f047de10>"
      ]
     },
     "execution_count": 24,
     "metadata": {},
     "output_type": "execute_result"
    },
    {
     "data": {
      "image/png": "[encoded data removed]",
      "text/plain": [
       "<Figure size 432x288 with 1 Axes>"
      ]
     },
     "metadata": {
      "needs_background": "light"
     },
     "output_type": "display_data"
    },
    {
     "data": {
      "image/png": "[encoded data removed]",
      "text/plain": [
       "<Figure size 432x288 with 1 Axes>"
      ]
     },
     "metadata": {
      "needs_background": "light"
     },
     "output_type": "display_data"
    }
   ],
   "source": [
    "history = nnlm_history\n",
    "pd.DataFrame(history.history)[['loss', 'val_loss']].plot()\n",
    "pd.DataFrame(history.history)[['accuracy', 'val_accuracy']].plot()"
   ]
  },
  {
   "cell_type": "markdown",
   "metadata": {},
   "source": [
    "## Training Swivel"
   ]
  },
  {
   "cell_type": "code",
   "execution_count": 25,
   "metadata": {},
   "outputs": [],
   "source": [
    "swivel_model = build_model(swivel_module, name='swivel')"
   ]
  },
  {
   "cell_type": "code",
   "execution_count": 26,
   "metadata": {},
   "outputs": [
    {
     "name": "stdout",
     "output_type": "stream",
     "text": [
      "Train on 91392 samples, validate on 4811 samples\n",
      "Epoch 1/100\n",
      "91392/91392 [==============================] - 2s 25us/sample - loss: 1.1818 - accuracy: 0.3479 - val_loss: 1.1069 - val_accuracy: 0.4024\n",
      "Epoch 2/100\n",
      "91392/91392 [==============================] - 1s 13us/sample - loss: 1.0604 - accuracy: 0.4472 - val_loss: 1.0186 - val_accuracy: 0.4964\n",
      "Epoch 3/100\n",
      "91392/91392 [==============================] - 1s 14us/sample - loss: 0.9859 - accuracy: 0.5228 - val_loss: 0.9574 - val_accuracy: 0.5539\n",
      "Epoch 4/100\n",
      "91392/91392 [==============================] - 1s 12us/sample - loss: 0.9282 - accuracy: 0.5717 - val_loss: 0.9055 - val_accuracy: 0.5914\n",
      "Epoch 5/100\n",
      "91392/91392 [==============================] - 1s 13us/sample - loss: 0.8757 - accuracy: 0.6088 - val_loss: 0.8554 - val_accuracy: 0.6240\n",
      "Epoch 6/100\n",
      "91392/91392 [==============================] - 1s 12us/sample - loss: 0.8236 - accuracy: 0.6410 - val_loss: 0.8053 - val_accuracy: 0.6502\n",
      "Epoch 7/100\n",
      "91392/91392 [==============================] - 1s 13us/sample - loss: 0.7714 - accuracy: 0.6697 - val_loss: 0.7564 - val_accuracy: 0.6776\n",
      "Epoch 8/100\n",
      "91392/91392 [==============================] - 1s 14us/sample - loss: 0.7214 - accuracy: 0.6930 - val_loss: 0.7115 - val_accuracy: 0.6988\n",
      "Epoch 9/100\n",
      "91392/91392 [==============================] - 1s 13us/sample - loss: 0.6757 - accuracy: 0.7138 - val_loss: 0.6727 - val_accuracy: 0.7125\n",
      "Epoch 10/100\n",
      "91392/91392 [==============================] - 1s 13us/sample - loss: 0.6362 - accuracy: 0.7313 - val_loss: 0.6407 - val_accuracy: 0.7285\n",
      "Epoch 11/100\n",
      "91392/91392 [==============================] - 1s 13us/sample - loss: 0.6030 - accuracy: 0.7450 - val_loss: 0.6147 - val_accuracy: 0.7391\n",
      "Epoch 12/100\n",
      "91392/91392 [==============================] - 1s 14us/sample - loss: 0.5752 - accuracy: 0.7573 - val_loss: 0.5936 - val_accuracy: 0.7443\n",
      "Epoch 13/100\n",
      "91392/91392 [==============================] - 1s 12us/sample - loss: 0.5516 - accuracy: 0.7683 - val_loss: 0.5758 - val_accuracy: 0.7527\n",
      "Epoch 14/100\n",
      "91392/91392 [==============================] - 1s 12us/sample - loss: 0.5311 - accuracy: 0.7778 - val_loss: 0.5608 - val_accuracy: 0.7605\n",
      "Epoch 15/100\n",
      "91392/91392 [==============================] - 1s 12us/sample - loss: 0.5133 - accuracy: 0.7860 - val_loss: 0.5482 - val_accuracy: 0.7660\n",
      "Epoch 16/100\n",
      "91392/91392 [==============================] - 1s 12us/sample - loss: 0.4977 - accuracy: 0.7934 - val_loss: 0.5375 - val_accuracy: 0.7714\n",
      "Epoch 17/100\n",
      "91392/91392 [==============================] - 1s 12us/sample - loss: 0.4836 - accuracy: 0.7997 - val_loss: 0.5281 - val_accuracy: 0.7768\n",
      "Epoch 18/100\n",
      "91392/91392 [==============================] - 1s 13us/sample - loss: 0.4710 - accuracy: 0.8054 - val_loss: 0.5201 - val_accuracy: 0.7834\n",
      "Epoch 19/100\n",
      "91392/91392 [==============================] - 1s 13us/sample - loss: 0.4595 - accuracy: 0.8108 - val_loss: 0.5133 - val_accuracy: 0.7876\n",
      "Epoch 20/100\n",
      "91392/91392 [==============================] - 1s 12us/sample - loss: 0.4491 - accuracy: 0.8152 - val_loss: 0.5071 - val_accuracy: 0.7896\n",
      "Epoch 21/100\n",
      "91392/91392 [==============================] - 1s 12us/sample - loss: 0.4395 - accuracy: 0.8195 - val_loss: 0.5020 - val_accuracy: 0.7913\n",
      "Epoch 22/100\n",
      "91392/91392 [==============================] - 1s 12us/sample - loss: 0.4309 - accuracy: 0.8240 - val_loss: 0.4974 - val_accuracy: 0.7944\n",
      "Epoch 23/100\n",
      "91392/91392 [==============================] - 1s 13us/sample - loss: 0.4226 - accuracy: 0.8275 - val_loss: 0.4935 - val_accuracy: 0.7963\n",
      "Epoch 24/100\n",
      "91392/91392 [==============================] - 1s 12us/sample - loss: 0.4151 - accuracy: 0.8312 - val_loss: 0.4904 - val_accuracy: 0.7967\n",
      "Epoch 25/100\n",
      "91392/91392 [==============================] - 1s 13us/sample - loss: 0.4082 - accuracy: 0.8345 - val_loss: 0.4876 - val_accuracy: 0.7980\n",
      "Epoch 26/100\n",
      "91392/91392 [==============================] - 1s 13us/sample - loss: 0.4018 - accuracy: 0.8370 - val_loss: 0.4855 - val_accuracy: 0.7973\n",
      "Epoch 27/100\n",
      "91392/91392 [==============================] - 1s 14us/sample - loss: 0.3959 - accuracy: 0.8397 - val_loss: 0.4831 - val_accuracy: 0.7990\n",
      "Epoch 28/100\n",
      "91392/91392 [==============================] - 1s 13us/sample - loss: 0.3904 - accuracy: 0.8422 - val_loss: 0.4810 - val_accuracy: 0.8002\n",
      "Epoch 29/100\n",
      "91392/91392 [==============================] - 1s 14us/sample - loss: 0.3852 - accuracy: 0.8446 - val_loss: 0.4798 - val_accuracy: 0.8005\n",
      "Epoch 30/100\n",
      "91392/91392 [==============================] - 1s 14us/sample - loss: 0.3804 - accuracy: 0.8468 - val_loss: 0.4791 - val_accuracy: 0.8017\n",
      "Epoch 31/100\n",
      "91392/91392 [==============================] - 1s 13us/sample - loss: 0.3759 - accuracy: 0.8491 - val_loss: 0.4777 - val_accuracy: 0.8023\n",
      "Epoch 32/100\n",
      "91392/91392 [==============================] - 1s 12us/sample - loss: 0.3717 - accuracy: 0.8507 - val_loss: 0.4766 - val_accuracy: 0.8023\n",
      "Epoch 33/100\n",
      "91392/91392 [==============================] - 1s 12us/sample - loss: 0.3677 - accuracy: 0.8525 - val_loss: 0.4762 - val_accuracy: 0.8042\n",
      "Epoch 34/100\n",
      "91392/91392 [==============================] - 1s 14us/sample - loss: 0.3640 - accuracy: 0.8540 - val_loss: 0.4756 - val_accuracy: 0.8040\n",
      "Epoch 35/100\n",
      "91392/91392 [==============================] - 1s 12us/sample - loss: 0.3605 - accuracy: 0.8559 - val_loss: 0.4759 - val_accuracy: 0.8025\n"
     ]
    }
   ],
   "source": [
    "swivel_history = train_and_evaluate(data, val_data, swivel_model)"
   ]
  },
  {
   "cell_type": "code",
   "execution_count": 27,
   "metadata": {},
   "outputs": [
    {
     "data": {
      "text/plain": [
       "<matplotlib.axes._subplots.AxesSubplot at 0x7f68cec5bda0>"
      ]
     },
     "execution_count": 27,
     "metadata": {},
     "output_type": "execute_result"
    },
    {
     "data": {
      "image/png": "[encoded data removed]",
      "text/plain": [
       "<Figure size 432x288 with 1 Axes>"
      ]
     },
     "metadata": {
      "needs_background": "light"
     },
     "output_type": "display_data"
    },
    {
     "data": {
      "image/png": "[encoded data removed]",
      "text/plain": [
       "<Figure size 432x288 with 1 Axes>"
      ]
     },
     "metadata": {
      "needs_background": "light"
     },
     "output_type": "display_data"
    }
   ],
   "source": [
    "history = swivel_history\n",
    "pd.DataFrame(history.history)[['loss', 'val_loss']].plot()\n",
    "pd.DataFrame(history.history)[['accuracy', 'val_accuracy']].plot()"
   ]
  },
  {
   "cell_type": "markdown",
   "metadata": {},
   "source": [
    "## Comparing the models"
   ]
  },
  {
   "cell_type": "markdown",
   "metadata": {},
   "source": [
    "Swivel trains faster but achieves a lower validation accuracy, and requires more epochs to train on."
   ]
  },
  {
   "cell_type": "markdown",
   "metadata": {},
   "source": [
    "At last, let's compare all the models we have trained at once using TensorBoard in order\n",
    "to choose the one that overfits the less for the same performance level.\n",
    "\n",
    "Running the following command will launch TensorBoard on port 6006. This will\n",
    "block the notebook execution, so you'll have to interrupt that cell first before\n",
    "you can run other cells.\n"
   ]
  },
  {
   "cell_type": "code",
   "execution_count": null,
   "metadata": {},
   "outputs": [],
   "source": [
    "!tensorboard --logdir $MODEL_DIR --port 6006"
   ]
  },
  {
   "cell_type": "markdown",
   "metadata": {},
   "source": [
    "## Bonus"
   ]
  },
  {
   "cell_type": "markdown",
   "metadata": {},
   "source": [
    "Try to beat the best model by modifying the model architecture, changing the TF-Hub embedding, and tweaking the training parameters."
   ]
  },
  {
   "cell_type": "markdown",
   "metadata": {},
   "source": [
    "Copyright 2019 Google Inc. Licensed under the Apache License, Version 2.0 (the \"License\"); you may not use this file except in compliance with the License. You may obtain a copy of the License at http://www.apache.org/licenses/LICENSE-2.0 Unless required by applicable law or agreed to in writing, software distributed under the License is distributed on an \"AS IS\" BASIS, WITHOUT WARRANTIES OR CONDITIONS OF ANY KIND, either express or implied. See the License for the specific language governing permissions and limitations under the License"
   ]
  }
 ],
 "metadata": {
  "kernelspec": {
   "display_name": "Python 3",
   "language": "python",
   "name": "python3"
  },
  "language_info": {
   "codemirror_mode": {
    "name": "ipython",
    "version": 3
   },
   "file_extension": ".py",
   "mimetype": "text/x-python",
   "name": "python",
   "nbconvert_exporter": "python",
   "pygments_lexer": "ipython3",
   "version": "3.5.3"
  }
 },
 "nbformat": 4,
 "nbformat_minor": 4
}
