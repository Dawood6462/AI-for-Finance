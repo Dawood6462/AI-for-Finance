{
 "cells": [
  {
   "cell_type": "markdown",
   "metadata": {},
   "source": [
    "# Introducing the Keras Sequential API\n",
    "\n",
    "**Learning Objectives**\n",
    "  1. Build a DNN model using the Keras Sequential API\n",
    "  1. Learn how to use feature columns in a Keras model\n",
    "  1. Learn how to train a model with Keras\n",
    "  1. Learn how to save/load, and deploy a Keras model on GCP\n",
    "  1. Learn how to deploy and make predictions with at Keras model\n",
    "\n",
    "## Introduction\n",
    "\n",
    "The [Keras sequential API](https://keras.io/models/sequential/) allows you to create Tensorflow models layer-by-layer. This is useful for building most kinds of machine learning models but it does not allow you to create models that share layers, re-use layers or have multiple inputs or outputs. \n",
    "\n",
    "In this lab, we'll see how to build a simple deep neural network model using the keras sequential api and feature columns. Once we have trained our model, we will deploy it using AI Platform and see how to call our model for online prediciton.\n"
   ]
  },
  {
   "cell_type": "code",
   "execution_count": 10,
   "metadata": {},
   "outputs": [
    {
     "name": "stdout",
     "output_type": "stream",
     "text": [
      "tensorflow==2.0.0\n"
     ]
    }
   ],
   "source": [
    "# Ensure the right version of Tensorflow is installed.\n",
    "!pip freeze | grep tensorflow==2.0 || pip install tensorflow==2.0"
   ]
  },
  {
   "cell_type": "markdown",
   "metadata": {},
   "source": [
    "Start by importing the necessary libraries for this lab."
   ]
  },
  {
   "cell_type": "code",
   "execution_count": 11,
   "metadata": {},
   "outputs": [
    {
     "name": "stdout",
     "output_type": "stream",
     "text": [
      "2.0.0\n"
     ]
    }
   ],
   "source": [
    "import datetime\n",
    "import os\n",
    "import shutil\n",
    "\n",
    "import numpy as np\n",
    "import pandas as pd\n",
    "import tensorflow as tf\n",
    "\n",
    "from matplotlib import pyplot as plt\n",
    "from tensorflow import keras\n",
    "\n",
    "from tensorflow.keras.models import Sequential\n",
    "from tensorflow.keras.layers import Dense, DenseFeatures\n",
    "from tensorflow.keras.callbacks import TensorBoard\n",
    "\n",
    "print(tf.__version__)\n",
    "%matplotlib inline"
   ]
  },
  {
   "cell_type": "markdown",
   "metadata": {},
   "source": [
    "## Load raw data \n",
    "\n",
    "We will use the taxifare dataset, using the CSV files that we created in the first notebook of this sequence. Those files have been saved into `../data`."
   ]
  },
  {
   "cell_type": "code",
   "execution_count": 12,
   "metadata": {},
   "outputs": [
    {
     "name": "stdout",
     "output_type": "stream",
     "text": [
      "ls: cannot access '../data/*.csv': No such file or directory\n"
     ]
    }
   ],
   "source": [
    "!ls -l ../data/*.csv"
   ]
  },
  {
   "cell_type": "code",
   "execution_count": 13,
   "metadata": {},
   "outputs": [
    {
     "name": "stdout",
     "output_type": "stream",
     "text": [
      "head: cannot open '../data/taxi*.csv' for reading: No such file or directory\n"
     ]
    }
   ],
   "source": [
    "!head ../data/taxi*.csv"
   ]
  },
  {
   "cell_type": "markdown",
   "metadata": {},
   "source": [
    "## Use tf.data to read the CSV files\n",
    "\n",
    "We wrote these functions for reading data from the csv files above in the [previous notebook](2_dataset_api.ipynb)."
   ]
  },
  {
   "cell_type": "code",
   "execution_count": 23,
   "metadata": {},
   "outputs": [],
   "source": [
    "CSV_COLUMNS = [\n",
    "    'fare_amount',\n",
    "    'pickup_datetime',\n",
    "    'pickup_longitude',\n",
    "    'pickup_latitude',\n",
    "    'dropoff_longitude',\n",
    "    'dropoff_latitude',\n",
    "    'passenger_count'\n",
    "]\n",
    "LABEL_COLUMN = 'fare_amount'\n",
    "DEFAULTS = [[0.0], ['na'], [0.0], [0.0], [0.0], [0.0], [0.0]]\n",
    "UNWANTED_COLS = ['pickup_datetime']\n",
    "\n",
    "\n",
    "def features_and_labels(row_data):\n",
    "    label = row_data.pop(LABEL_COLUMN)\n",
    "    features = row_data\n",
    "    \n",
    "    for unwanted_col in UNWANTED_COLS:\n",
    "        features.pop(unwanted_col)\n",
    "\n",
    "    return features, label\n",
    "\n",
    "\n",
    "def create_dataset(pattern, batch_size=1, mode=tf.estimator.ModeKeys.EVAL):\n",
    "    dataset = tf.data.experimental.make_csv_dataset(\n",
    "        pattern, batch_size, CSV_COLUMNS, DEFAULTS)\n",
    "\n",
    "    dataset = dataset.map(features_and_labels)\n",
    "\n",
    "    if mode == tf.estimator.ModeKeys.TRAIN:\n",
    "        dataset = dataset.shuffle(buffer_size=1000).repeat()\n",
    "\n",
    "    # take advantage of multi-threading; 1=AUTOTUNE\n",
    "    dataset = dataset.prefetch(1)\n",
    "    return dataset"
   ]
  },
  {
   "cell_type": "markdown",
   "metadata": {},
   "source": [
    "## Build a simple keras DNN model\n",
    "\n",
    "We will use feature columns to connect our raw data to our keras DNN model. Feature columns make it easy to perform common types of feature engineering on your raw data. For example, you can one-hot encode categorical data, create feature crosses, embeddings and more. We'll cover these in more detail later in the course, but if you want to a sneak peak browse the official TensorFlow [feature columns guide](https://www.tensorflow.org/guide/feature_columns).\n",
    "\n",
    "In our case we won't do any feature engineering. However, we still need to create a list of feature columns to specify the numeric values which will be passed on to our model. To do this, we use `tf.feature_column.numeric_column()`\n",
    "\n",
    "We use a python dictionary comprehension to create the feature columns for our model, which is just an elegant alternative to a for loop."
   ]
  },
  {
   "cell_type": "code",
   "execution_count": 24,
   "metadata": {},
   "outputs": [],
   "source": [
    "INPUT_COLS = [\n",
    "    'pickup_longitude',\n",
    "    'pickup_latitude',\n",
    "    'dropoff_longitude',\n",
    "    'dropoff_latitude',\n",
    "    'passenger_count',\n",
    "]\n",
    "\n",
    "# Create input layer of feature columns\n",
    "# TODO 2\n",
    "feature_columns = {\n",
    "    colname: tf.feature_column.numeric_column(colname)\n",
    "    for colname in INPUT_COLS\n",
    "    }"
   ]
  },
  {
   "cell_type": "markdown",
   "metadata": {},
   "source": [
    "Next, we create the DNN model. The Sequential model is a linear stack of layers and when building a model using the Sequential API, you configure each layer of the model in turn. Once all the layers have been added, you compile the model. "
   ]
  },
  {
   "cell_type": "code",
   "execution_count": 25,
   "metadata": {},
   "outputs": [],
   "source": [
    "# Build a keras DNN model using Sequential API\n",
    "# TODO 1\n",
    "model = Sequential([\n",
    "    DenseFeatures(feature_columns=feature_columns.values()),\n",
    "    Dense(units=32, activation=\"relu\", name=\"h1\"),\n",
    "    Dense(units=8, activation=\"relu\", name=\"h2\"),\n",
    "    Dense(units=1, activation=\"linear\", name=\"output\")\n",
    "    ])"
   ]
  },
  {
   "cell_type": "markdown",
   "metadata": {},
   "source": [
    "Next, to prepare the model for training, you must configure the learning process. This is done using the compile method. The compile method takes three arguments:\n",
    "\n",
    "* An optimizer. This could be the string identifier of an existing optimizer (such as `rmsprop` or `adagrad`), or an instance of the [Optimizer class](https://www.tensorflow.org/versions/r2.0/api_docs/python/tf/keras/optimizers).\n",
    "* A loss function. This is the objective that the model will try to minimize. It can be the string identifier of an existing loss function from the [Losses class](https://www.tensorflow.org/versions/r2.0/api_docs/python/tf/keras/losses) (such as categorical_crossentropy or mse), or it can be a custom objective function.\n",
    "* A list of metrics. For any machine learning problem you will want a set of metrics to evaluate your model. A metric could be the string identifier of an existing metric or a custom metric function.\n",
    "\n",
    "We will add an additional custom metric called `rmse` to our list of metrics which will return the root mean square error. "
   ]
  },
  {
   "cell_type": "code",
   "execution_count": 26,
   "metadata": {},
   "outputs": [],
   "source": [
    "# Create a custom evalution metric\n",
    "def rmse(y_true, y_pred):\n",
    "    return tf.sqrt(tf.reduce_mean(tf.square(y_pred - y_true)))\n",
    "\n",
    "\n",
    "# Compile the keras model\n",
    "model.compile(optimizer=\"adam\", loss=\"mse\", metrics=[rmse, \"mse\"])"
   ]
  },
  {
   "cell_type": "markdown",
   "metadata": {},
   "source": [
    "## Train the model\n",
    "\n",
    "To train your model, Keras provides three functions that can be used:\n",
    " 1. `.fit()` for training a model for a fixed number of epochs (iterations on a dataset).\n",
    " 2. `.fit_generator()` for training a model on data yielded batch-by-batch by a generator\n",
    " 3. `.train_on_batch()` runs a single gradient update on a single batch of data. \n",
    " \n",
    "The `.fit()` is the primary API for training a model. It works with in-memory datasets using numpy, but it also works with larger out-of-memory datasets using the `Dataset` API. Alternatively, for large datasets (or if you need to manipulate the training data on the fly via data augmentation, etc) you can use `.fit_generator()` instead. Finally, The `.train_on_batch()` method is for more fine-grained control over training and accepts only a single batch of data.\n",
    "\n",
    "The taxifare dataset we sampled is small enough to fit in memory, so can we could use `.fit` to train our model. Our `create_dataset` function above generates batches of training examples, so we could also use `.fit_generator`. In fact, when calling `.fit` the method inspects the data, and if it's a generator (as our dataset is) it will invoke automatically `.fit_generator` for training. \n",
    "\n",
    "We start by setting up some parameters for our training job and create the data generators for the training and validation data.\n",
    "\n",
    "We refer you the the blog post [ML Design Pattern #3: Virtual Epochs](https://medium.com/google-cloud/ml-design-pattern-3-virtual-epochs-f842296de730) for further details on why express the training in terms of `NUM_TRAIN_EXAMPLES` and `NUM_EVALS` and why, in this training code, the number of epochs is really equal to the number of evaluations we perform."
   ]
  },
  {
   "cell_type": "code",
   "execution_count": 27,
   "metadata": {},
   "outputs": [],
   "source": [
    "TRAIN_BATCH_SIZE = 1000\n",
    "NUM_TRAIN_EXAMPLES = 10000 * 5  # training dataset will repeat, wrap around\n",
    "NUM_EVALS = 50  # how many times to evaluate\n",
    "NUM_EVAL_EXAMPLES = 10000  # enough to get a reasonable sample\n",
    "\n",
    "trainds = create_dataset(\n",
    "    pattern='../data/taxi-train*',\n",
    "    batch_size=TRAIN_BATCH_SIZE,\n",
    "    mode=tf.estimator.ModeKeys.TRAIN)\n",
    "\n",
    "evalds = create_dataset(\n",
    "    pattern='../data/taxi-valid*',\n",
    "    batch_size=1000,\n",
    "    mode=tf.estimator.ModeKeys.EVAL).take(NUM_EVAL_EXAMPLES//1000)"
   ]
  },
  {
   "cell_type": "markdown",
   "metadata": {},
   "source": [
    "There are various arguments you can set when calling the [.fit method](https://www.tensorflow.org/versions/r2.0/api_docs/python/tf/keras/Model#fit). Here `x` specifies the input data which in our case is a `tf.data` dataset returning a tuple of (inputs, targets). The `steps_per_epoch` parameter is used to mark the end of training for a single epoch. Here we are training for NUM_EVALS epochs. Lastly, for the `callback` argument we specify a Tensorboard callback so we can inspect Tensorboard after training. "
   ]
  },
  {
   "cell_type": "code",
   "execution_count": 29,
   "metadata": {},
   "outputs": [
    {
     "name": "stdout",
     "output_type": "stream",
     "text": [
      "Train for 1 steps, validate for 10 steps\n",
      "Epoch 1/50\n",
      "1/1 [==============================] - 18s 18s/step - loss: 1343908.8750 - rmse: 1159.2709 - mse: 1343908.8750 - val_loss: 45104.1020 - val_rmse: 212.3551 - val_mse: 45104.1016\n",
      "Epoch 2/50\n",
      "WARNING:tensorflow:Method (on_train_batch_end) is slow compared to the batch update (0.400601). Check your callbacks.\n",
      "1/1 [==============================] - 1s 861ms/step - loss: 1282542.7500 - rmse: 1132.4940 - mse: 1282542.7500 - val_loss: 40505.6887 - val_rmse: 201.2389 - val_mse: 40505.6914\n",
      "Epoch 3/50\n",
      "1/1 [==============================] - 1s 507ms/step - loss: 1143465.1250 - rmse: 1069.3293 - mse: 1143465.1250 - val_loss: 36182.4980 - val_rmse: 190.1965 - val_mse: 36182.4961\n",
      "Epoch 4/50\n",
      "1/1 [==============================] - 1s 518ms/step - loss: 1059713.1250 - rmse: 1029.4237 - mse: 1059713.1250 - val_loss: 32130.3314 - val_rmse: 179.2298 - val_mse: 32130.3301\n",
      "Epoch 5/50\n",
      "1/1 [==============================] - 1s 502ms/step - loss: 936054.7500 - rmse: 967.4992 - mse: 936054.7500 - val_loss: 28355.2238 - val_rmse: 168.3714 - val_mse: 28355.2227\n",
      "Epoch 6/50\n",
      "1/1 [==============================] - 1s 601ms/step - loss: 829530.2500 - rmse: 910.7855 - mse: 829530.2500 - val_loss: 24857.5299 - val_rmse: 157.6448 - val_mse: 24857.5332\n",
      "Epoch 7/50\n",
      "1/1 [==============================] - 1s 698ms/step - loss: 739386.2500 - rmse: 859.8757 - mse: 739386.2500 - val_loss: 21633.4824 - val_rmse: 147.0663 - val_mse: 21633.4824\n",
      "Epoch 8/50\n",
      "1/1 [==============================] - 1s 581ms/step - loss: 659931.6250 - rmse: 812.3618 - mse: 659931.6250 - val_loss: 18677.3689 - val_rmse: 136.6490 - val_mse: 18677.3691\n",
      "Epoch 9/50\n",
      "1/1 [==============================] - 1s 578ms/step - loss: 622960.3125 - rmse: 789.2783 - mse: 622960.3125 - val_loss: 15973.1479 - val_rmse: 126.3697 - val_mse: 15973.1475\n",
      "Epoch 10/50\n",
      "1/1 [==============================] - 1s 688ms/step - loss: 533586.6250 - rmse: 730.4702 - mse: 533586.6250 - val_loss: 13522.9212 - val_rmse: 116.2738 - val_mse: 13522.9199\n",
      "Epoch 11/50\n",
      "1/1 [==============================] - 1s 517ms/step - loss: 428914.1250 - rmse: 654.9153 - mse: 428914.1250 - val_loss: 11331.9833 - val_rmse: 106.4384 - val_mse: 11331.9834\n",
      "Epoch 12/50\n",
      "1/1 [==============================] - 1s 634ms/step - loss: 425276.7500 - rmse: 652.1324 - mse: 425276.7500 - val_loss: 9373.3518 - val_rmse: 96.8036 - val_mse: 9373.3516\n",
      "Epoch 13/50\n",
      "1/1 [==============================] - 1s 574ms/step - loss: 347568.5000 - rmse: 589.5494 - mse: 347568.5000 - val_loss: 7647.6025 - val_rmse: 87.4390 - val_mse: 7647.6016\n",
      "Epoch 14/50\n",
      "1/1 [==============================] - 1s 583ms/step - loss: 300039.8125 - rmse: 547.7589 - mse: 300039.8125 - val_loss: 6144.7893 - val_rmse: 78.3782 - val_mse: 6144.7891\n",
      "Epoch 15/50\n",
      "1/1 [==============================] - 1s 613ms/step - loss: 257085.5469 - rmse: 507.0360 - mse: 257085.5469 - val_loss: 4854.1804 - val_rmse: 69.6626 - val_mse: 4854.1802\n",
      "Epoch 16/50\n",
      "1/1 [==============================] - 1s 655ms/step - loss: 217621.7031 - rmse: 466.4994 - mse: 217621.7031 - val_loss: 3764.7316 - val_rmse: 61.3492 - val_mse: 3764.7317\n",
      "Epoch 17/50\n",
      "1/1 [==============================] - 1s 556ms/step - loss: 175215.6094 - rmse: 418.5876 - mse: 175215.6094 - val_loss: 2866.6926 - val_rmse: 53.5346 - val_mse: 2866.6924\n",
      "Epoch 18/50\n",
      "1/1 [==============================] - 1s 637ms/step - loss: 140023.9062 - rmse: 374.1977 - mse: 140023.9062 - val_loss: 2147.7689 - val_rmse: 46.3385 - val_mse: 2147.7690\n",
      "Epoch 19/50\n",
      "1/1 [==============================] - 1s 549ms/step - loss: 112115.1172 - rmse: 334.8360 - mse: 112115.1172 - val_loss: 1593.6042 - val_rmse: 39.9158 - val_mse: 1593.6042\n",
      "Epoch 20/50\n",
      "1/1 [==============================] - 0s 488ms/step - loss: 90733.3047 - rmse: 301.2197 - mse: 90733.3047 - val_loss: 1188.9077 - val_rmse: 34.4772 - val_mse: 1188.9076\n",
      "Epoch 21/50\n",
      "1/1 [==============================] - 1s 644ms/step - loss: 72879.2266 - rmse: 269.9615 - mse: 72879.2266 - val_loss: 918.6746 - val_rmse: 30.3062 - val_mse: 918.6745\n",
      "Epoch 22/50\n",
      "1/1 [==============================] - 1s 581ms/step - loss: 54336.4727 - rmse: 233.1019 - mse: 54336.4727 - val_loss: 768.5635 - val_rmse: 27.7179 - val_mse: 768.5635\n",
      "Epoch 23/50\n",
      "1/1 [==============================] - 1s 650ms/step - loss: 39815.5195 - rmse: 199.5383 - mse: 39815.5195 - val_loss: 723.8579 - val_rmse: 26.8974 - val_mse: 723.8578\n",
      "Epoch 24/50\n",
      "1/1 [==============================] - 1s 567ms/step - loss: 28475.9512 - rmse: 168.7482 - mse: 28475.9512 - val_loss: 769.7544 - val_rmse: 27.7360 - val_mse: 769.7545\n",
      "Epoch 25/50\n",
      "1/1 [==============================] - 1s 678ms/step - loss: 18528.3965 - rmse: 136.1190 - mse: 18528.3965 - val_loss: 891.4039 - val_rmse: 29.8483 - val_mse: 891.4038\n",
      "Epoch 26/50\n",
      "1/1 [==============================] - 1s 538ms/step - loss: 12141.8242 - rmse: 110.1899 - mse: 12141.8242 - val_loss: 1074.7996 - val_rmse: 32.7772 - val_mse: 1074.7996\n",
      "Epoch 27/50\n",
      "1/1 [==============================] - 1s 551ms/step - loss: 7234.0688 - rmse: 85.0533 - mse: 7234.0688 - val_loss: 1306.4583 - val_rmse: 36.1394 - val_mse: 1306.4583\n",
      "Epoch 28/50\n",
      "1/1 [==============================] - 1s 567ms/step - loss: 3942.6387 - rmse: 62.7904 - mse: 3942.6387 - val_loss: 1573.6225 - val_rmse: 39.6645 - val_mse: 1573.6224\n",
      "Epoch 29/50\n",
      "1/1 [==============================] - 1s 520ms/step - loss: 1894.6600 - rmse: 43.5277 - mse: 1894.6600 - val_loss: 1864.3159 - val_rmse: 43.1743 - val_mse: 1864.3160\n",
      "Epoch 30/50\n",
      "1/1 [==============================] - 1s 547ms/step - loss: 939.5676 - rmse: 30.6524 - mse: 939.5676 - val_loss: 2167.6567 - val_rmse: 46.5553 - val_mse: 2167.6565\n",
      "Epoch 31/50\n",
      "1/1 [==============================] - 1s 565ms/step - loss: 854.1190 - rmse: 29.2253 - mse: 854.1190 - val_loss: 2473.5314 - val_rmse: 49.7323 - val_mse: 2473.5312\n",
      "Epoch 32/50\n",
      "1/1 [==============================] - 1s 666ms/step - loss: 1387.0695 - rmse: 37.2434 - mse: 1387.0695 - val_loss: 2773.0854 - val_rmse: 52.6581 - val_mse: 2773.0852\n",
      "Epoch 33/50\n",
      "1/1 [==============================] - 1s 530ms/step - loss: 2473.1255 - rmse: 49.7305 - mse: 2473.1255 - val_loss: 3058.5524 - val_rmse: 55.3024 - val_mse: 3058.5525\n",
      "Epoch 34/50\n",
      "1/1 [==============================] - 1s 580ms/step - loss: 3855.3044 - rmse: 62.0911 - mse: 3855.3044 - val_loss: 3323.3820 - val_rmse: 57.6472 - val_mse: 3323.3821\n",
      "Epoch 35/50\n",
      "1/1 [==============================] - 1s 553ms/step - loss: 5281.5410 - rmse: 72.6742 - mse: 5281.5410 - val_loss: 3562.2698 - val_rmse: 59.6832 - val_mse: 3562.2700\n",
      "Epoch 36/50\n",
      "1/1 [==============================] - 1s 531ms/step - loss: 6747.3726 - rmse: 82.1424 - mse: 6747.3726 - val_loss: 3771.6005 - val_rmse: 61.4119 - val_mse: 3771.6003\n",
      "Epoch 37/50\n",
      "1/1 [==============================] - 1s 636ms/step - loss: 8539.1895 - rmse: 92.4077 - mse: 8539.1895 - val_loss: 3947.4298 - val_rmse: 62.8271 - val_mse: 3947.4297\n",
      "Epoch 38/50\n",
      "1/1 [==============================] - 1s 607ms/step - loss: 9995.7998 - rmse: 99.9790 - mse: 9995.7998 - val_loss: 4087.6743 - val_rmse: 63.9335 - val_mse: 4087.6743\n",
      "Epoch 39/50\n",
      "1/1 [==============================] - 1s 644ms/step - loss: 10556.0879 - rmse: 102.7428 - mse: 10556.0879 - val_loss: 4193.5490 - val_rmse: 64.7562 - val_mse: 4193.5493\n",
      "Epoch 40/50\n",
      "1/1 [==============================] - 1s 573ms/step - loss: 11835.2041 - rmse: 108.7897 - mse: 11835.2041 - val_loss: 4264.0750 - val_rmse: 65.2985 - val_mse: 4264.0752\n",
      "Epoch 41/50\n",
      "1/1 [==============================] - 1s 532ms/step - loss: 12596.1943 - rmse: 112.2328 - mse: 12596.1943 - val_loss: 4299.5270 - val_rmse: 65.5694 - val_mse: 4299.5269\n",
      "Epoch 42/50\n",
      "1/1 [==============================] - 1s 595ms/step - loss: 12815.1709 - rmse: 113.2041 - mse: 12815.1709 - val_loss: 4302.3307 - val_rmse: 65.5908 - val_mse: 4302.3306\n",
      "Epoch 43/50\n",
      "1/1 [==============================] - 1s 537ms/step - loss: 13136.4736 - rmse: 114.6145 - mse: 13136.4736 - val_loss: 4273.9827 - val_rmse: 65.3743 - val_mse: 4273.9824\n",
      "Epoch 44/50\n",
      "1/1 [==============================] - 1s 600ms/step - loss: 12959.3379 - rmse: 113.8391 - mse: 12959.3379 - val_loss: 4217.1188 - val_rmse: 64.9380 - val_mse: 4217.1191\n",
      "Epoch 45/50\n",
      "1/1 [==============================] - 1s 566ms/step - loss: 12870.9307 - rmse: 113.4501 - mse: 12870.9307 - val_loss: 4134.0215 - val_rmse: 64.2950 - val_mse: 4134.0215\n",
      "Epoch 46/50\n",
      "1/1 [==============================] - 1s 601ms/step - loss: 11747.5176 - rmse: 108.3860 - mse: 11747.5176 - val_loss: 4029.1978 - val_rmse: 63.4746 - val_mse: 4029.1980\n",
      "Epoch 47/50\n",
      "1/1 [==============================] - 1s 635ms/step - loss: 11327.4541 - rmse: 106.4305 - mse: 11327.4541 - val_loss: 3904.5824 - val_rmse: 62.4852 - val_mse: 3904.5825\n",
      "Epoch 48/50\n",
      "1/1 [==============================] - 1s 611ms/step - loss: 10400.5732 - rmse: 101.9832 - mse: 10400.5732 - val_loss: 3762.9415 - val_rmse: 61.3414 - val_mse: 3762.9417\n",
      "Epoch 49/50\n",
      "1/1 [==============================] - 1s 550ms/step - loss: 9655.4814 - rmse: 98.2623 - mse: 9655.4814 - val_loss: 3606.0973 - val_rmse: 60.0493 - val_mse: 3606.0972\n",
      "Epoch 50/50\n",
      "1/1 [==============================] - 1s 676ms/step - loss: 8806.7510 - rmse: 93.8443 - mse: 8806.7510 - val_loss: 3435.5541 - val_rmse: 58.6121 - val_mse: 3435.5544\n"
     ]
    }
   ],
   "source": [
    "# TODO 3\n",
    "steps_per_epoch = NUM_TRAIN_EXAMPLES // (TRAIN_BATCH_SIZE * NUM_EVALS)\n",
    "\n",
    "LOGDIR = \"./taxi_trained\"\n",
    "history = model.fit(x=trainds,\n",
    "                    steps_per_epoch=1,\n",
    "                    epochs=NUM_EVALS,\n",
    "                    validation_data=evalds,\n",
    "                    callbacks=[TensorBoard(LOGDIR)])"
   ]
  },
  {
   "cell_type": "markdown",
   "metadata": {},
   "source": [
    "### High-level model evaluation\n",
    "\n",
    "Once we've run data through the model, we can call `.summary()` on the model to get a high-level summary of our network. We can also plot the training and evaluation curves for the metrics we computed above. "
   ]
  },
  {
   "cell_type": "code",
   "execution_count": 30,
   "metadata": {},
   "outputs": [
    {
     "name": "stdout",
     "output_type": "stream",
     "text": [
      "Model: \"sequential_2\"\n",
      "_________________________________________________________________\n",
      "Layer (type)                 Output Shape              Param #   \n",
      "=================================================================\n",
      "dense_features_2 (DenseFeatu multiple                  0         \n",
      "_________________________________________________________________\n",
      "h1 (Dense)                   multiple                  192       \n",
      "_________________________________________________________________\n",
      "h2 (Dense)                   multiple                  264       \n",
      "_________________________________________________________________\n",
      "output (Dense)               multiple                  9         \n",
      "=================================================================\n",
      "Total params: 465\n",
      "Trainable params: 465\n",
      "Non-trainable params: 0\n",
      "_________________________________________________________________\n"
     ]
    }
   ],
   "source": [
    "model.summary()"
   ]
  },
  {
   "cell_type": "markdown",
   "metadata": {},
   "source": [
    "Running `.fit` (or `.fit_generator`) returns a History object which collects all the events recorded during training. Similar to Tensorboard, we can plot the training and validation curves for the model loss and rmse by accessing these elements of the History object."
   ]
  },
  {
   "cell_type": "code",
   "execution_count": 31,
   "metadata": {},
   "outputs": [
    {
     "data": {
      "text/plain": [
       "<matplotlib.axes._subplots.AxesSubplot at 0x7f185ed93780>"
      ]
     },
     "execution_count": 31,
     "metadata": {},
     "output_type": "execute_result"
    },
    {
     "data": {
      "image/png": "[encoded data removed]",
      "text/plain": [
       "<Figure size 432x288 with 1 Axes>"
      ]
     },
     "metadata": {
      "needs_background": "light"
     },
     "output_type": "display_data"
    }
   ],
   "source": [
    "RMSE_COLS = ['rmse', 'val_rmse']\n",
    "\n",
    "pd.DataFrame(history.history)[RMSE_COLS].plot()"
   ]
  },
  {
   "cell_type": "code",
   "execution_count": 32,
   "metadata": {},
   "outputs": [
    {
     "data": {
      "text/plain": [
       "<matplotlib.axes._subplots.AxesSubplot at 0x7f1820535e48>"
      ]
     },
     "execution_count": 32,
     "metadata": {},
     "output_type": "execute_result"
    },
    {
     "data": {
      "image/png": "[encoded data removed]",
      "text/plain": [
       "<Figure size 432x288 with 1 Axes>"
      ]
     },
     "metadata": {
      "needs_background": "light"
     },
     "output_type": "display_data"
    }
   ],
   "source": [
    "LOSS_COLS = ['loss', 'val_loss']\n",
    "\n",
    "pd.DataFrame(history.history)[LOSS_COLS].plot()"
   ]
  },
  {
   "cell_type": "markdown",
   "metadata": {},
   "source": [
    "# Making predictions with our model\n",
    "\n",
    "To make predictions with our trained model, we can call the [predict method](https://www.tensorflow.org/api_docs/python/tf/keras/Model#predict), passing to it a dictionary of values. The `steps` parameter determines the total number of steps before declaring the prediction round finished. Here since we have just one example, we set `steps=1` (setting `steps=None` would also work). Note, however, that if x is a `tf.data` dataset or a dataset iterator, and steps is set to None, predict will run until the input dataset is exhausted."
   ]
  },
  {
   "cell_type": "code",
   "execution_count": 33,
   "metadata": {},
   "outputs": [
    {
     "data": {
      "text/plain": [
       "array([[33.031895]], dtype=float32)"
      ]
     },
     "execution_count": 33,
     "metadata": {},
     "output_type": "execute_result"
    }
   ],
   "source": [
    "model.predict(x={\"pickup_longitude\": tf.convert_to_tensor([-73.982683]),\n",
    "                 \"pickup_latitude\": tf.convert_to_tensor([40.742104]),\n",
    "                 \"dropoff_longitude\": tf.convert_to_tensor([-73.983766]),\n",
    "                 \"dropoff_latitude\": tf.convert_to_tensor([40.755174]),\n",
    "                 \"passenger_count\": tf.convert_to_tensor([3.0])},\n",
    "              steps=1)"
   ]
  },
  {
   "cell_type": "markdown",
   "metadata": {},
   "source": [
    "# Export and deploy our model\n",
    "\n",
    "Of course, making individual predictions is not realistic, because we can't expect client code to have a model object in memory. For others to use our trained model, we'll have to export our model to a file, and expect client code to instantiate the model from that exported file. \n",
    "\n",
    "We'll export the model to a TensorFlow SavedModel format. Once we have a model in this format, we have lots of ways to \"serve\" the model, from a web application, from JavaScript, from mobile applications, etc."
   ]
  },
  {
   "cell_type": "code",
   "execution_count": 34,
   "metadata": {},
   "outputs": [
    {
     "name": "stdout",
     "output_type": "stream",
     "text": [
      "WARNING:tensorflow:From /usr/local/lib/python3.5/dist-packages/tensorflow_core/python/ops/resource_variable_ops.py:1781: calling BaseResourceVariable.__init__ (from tensorflow.python.ops.resource_variable_ops) with constraint is deprecated and will be removed in a future version.\n",
      "Instructions for updating:\n",
      "If using Keras pass *_constraint arguments to layers.\n",
      "INFO:tensorflow:Assets written to: ./export/savedmodel/20191105212521/assets\n"
     ]
    }
   ],
   "source": [
    "# TODO 4\n",
    "OUTPUT_DIR = \"./export/savedmodel\"\n",
    "shutil.rmtree(OUTPUT_DIR, ignore_errors=True)\n",
    "EXPORT_PATH = os.path.join(OUTPUT_DIR,\n",
    "                           datetime.datetime.now().strftime(\"%Y%m%d%H%M%S\"))\n",
    "tf.saved_model.save(model, EXPORT_PATH)  # with default serving function"
   ]
  },
  {
   "cell_type": "code",
   "execution_count": 35,
   "metadata": {},
   "outputs": [
    {
     "name": "stdout",
     "output_type": "stream",
     "text": [
      "The given SavedModel SignatureDef contains the following input(s):\n",
      "  inputs['dropoff_latitude'] tensor_info:\n",
      "      dtype: DT_FLOAT\n",
      "      shape: (-1, 1)\n",
      "      name: serving_default_dropoff_latitude:0\n",
      "  inputs['dropoff_longitude'] tensor_info:\n",
      "      dtype: DT_FLOAT\n",
      "      shape: (-1, 1)\n",
      "      name: serving_default_dropoff_longitude:0\n",
      "  inputs['passenger_count'] tensor_info:\n",
      "      dtype: DT_FLOAT\n",
      "      shape: (-1, 1)\n",
      "      name: serving_default_passenger_count:0\n",
      "  inputs['pickup_latitude'] tensor_info:\n",
      "      dtype: DT_FLOAT\n",
      "      shape: (-1, 1)\n",
      "      name: serving_default_pickup_latitude:0\n",
      "  inputs['pickup_longitude'] tensor_info:\n",
      "      dtype: DT_FLOAT\n",
      "      shape: (-1, 1)\n",
      "      name: serving_default_pickup_longitude:0\n",
      "The given SavedModel SignatureDef contains the following output(s):\n",
      "  outputs['output_1'] tensor_info:\n",
      "      dtype: DT_FLOAT\n",
      "      shape: (-1, 1)\n",
      "      name: StatefulPartitionedCall:0\n",
      "Method name is: tensorflow/serving/predict\n",
      "./export/savedmodel/20191105212521\n",
      "./export/savedmodel/20191105212521/variables\n",
      "./export/savedmodel/20191105212521/variables/variables.index\n",
      "./export/savedmodel/20191105212521/variables/variables.data-00000-of-00001\n",
      "./export/savedmodel/20191105212521/saved_model.pb\n",
      "./export/savedmodel/20191105212521/assets\n"
     ]
    }
   ],
   "source": [
    "!saved_model_cli show \\\n",
    " --tag_set serve \\\n",
    " --signature_def serving_default \\\n",
    " --dir {EXPORT_PATH}\n",
    "!find {EXPORT_PATH}\n",
    "os.environ['EXPORT_PATH'] = EXPORT_PATH"
   ]
  },
  {
   "cell_type": "markdown",
   "metadata": {},
   "source": [
    "### Deploy our model to AI Platform\n",
    "\n",
    "Finally, we will deploy our trained model to AI Platform and see how we can make online predicitons. "
   ]
  },
  {
   "cell_type": "code",
   "execution_count": null,
   "metadata": {},
   "outputs": [],
   "source": [
    "%%bash\n",
    "\n",
    "# TODO 5\n",
    "\n",
    "PROJECT=#TODO: Change this to your PROJECT\n",
    "BUCKET=${PROJECT}\n",
    "REGION=us-east1\n",
    "MODEL_NAME=taxifare\n",
    "VERSION_NAME=dnn\n",
    "\n",
    "if [[ $(gcloud ai-platform models list --format='value(name)' | grep $MODEL_NAME) ]]; then\n",
    "    echo \"$MODEL_NAME already exists\"\n",
    "else\n",
    "    echo \"Creating $MODEL_NAME\"\n",
    "    gcloud ai-platform models create --regions=$REGION $MODEL_NAME\n",
    "fi\n",
    "\n",
    "if [[ $(gcloud ai-platform versions list --model $MODEL_NAME --format='value(name)' | grep $VERSION_NAME) ]]; then\n",
    "    echo \"Deleting already existing $MODEL_NAME:$VERSION_NAME ... \"\n",
    "    echo yes | gcloud ai-platform versions delete --model=$MODEL_NAME $VERSION_NAME\n",
    "    echo \"Please run this cell again if you don't see a Creating message ... \"\n",
    "    sleep 2\n",
    "fi\n",
    "\n",
    "echo \"Creating $MODEL_NAME:$VERSION_NAME\"\n",
    "gcloud ai-platform versions create --model=$MODEL_NAME $VERSION_NAME \\\n",
    "       --framework=tensorflow --python-version=3.5 --runtime-version=1.14 \\\n",
    "       --origin=$EXPORT_PATH --staging-bucket=gs://$BUCKET"
   ]
  },
  {
   "cell_type": "code",
   "execution_count": null,
   "metadata": {},
   "outputs": [],
   "source": [
    "%%writefile input.json\n",
    "{\"pickup_longitude\": -73.982683, \"pickup_latitude\": 40.742104,\"dropoff_longitude\": -73.983766,\"dropoff_latitude\": 40.755174,\"passenger_count\": 3.0}  "
   ]
  },
  {
   "cell_type": "code",
   "execution_count": null,
   "metadata": {},
   "outputs": [],
   "source": [
    "# TODO 5\n",
    "!gcloud ai-platform predict --model taxifare --json-instances input.json --version dnn"
   ]
  },
  {
   "cell_type": "markdown",
   "metadata": {},
   "source": [
    "Copyright 2019 Google Inc. Licensed under the Apache License, Version 2.0 (the \"License\"); you may not use this file except in compliance with the License. You may obtain a copy of the License at http://www.apache.org/licenses/LICENSE-2.0 Unless required by applicable law or agreed to in writing, software distributed under the License is distributed on an \"AS IS\" BASIS, WITHOUT WARRANTIES OR CONDITIONS OF ANY KIND, either express or implied. See the License for the specific language governing permissions and limitations under the License"
   ]
  }
 ],
 "metadata": {
  "kernelspec": {
   "display_name": "Python 3",
   "language": "python",
   "name": "python3"
  },
  "language_info": {
   "codemirror_mode": {
    "name": "ipython",
    "version": 3
   },
   "file_extension": ".py",
   "mimetype": "text/x-python",
   "name": "python",
   "nbconvert_exporter": "python",
   "pygments_lexer": "ipython3",
   "version": "3.5.3"
  }
 },
 "nbformat": 4,
 "nbformat_minor": 4
}
