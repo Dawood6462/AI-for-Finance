{
 "cells": [
  {
   "cell_type": "markdown",
   "metadata": {},
   "source": [
    "# LAB 12:  Serving baby weight predictions.\n",
    "\n",
    "**Learning Objectives**\n",
    "\n",
    "1. Deploy an AppEngine web application that consumes the machine learning service\n",
    "1. Consume the ML predictions from Dataflow in batch mode\n",
    "1. Consume the ML predictions from Dataflow in real-time\n",
    "\n",
    "\n",
    "## Introduction \n",
    "In this notebook we'll deploying our Keras model to Cloud AI Platform and creating predictions.\n",
    "\n",
    "In this lab we will deploy an AppEngine web application that consumes the machine learning service and consume the ML predictions from Dataflow, both in batch mode and in real-time.\n",
    "\n",
    "Throughout the lab serving files, there are __#TODO__s -- try to complete them first and then review the [solution notebook](../solutions/12_serving_babyweight.ipynb) and the solution serving files [app.yaml](../solutions/serving/application/app.yaml), [form.html](../solutions/serving/application/templates/form.html), [main.py](../solutions/serving/application/main.py), and [deploy.sh](../solutions/serving/deploy.sh)."
   ]
  },
  {
   "cell_type": "markdown",
   "metadata": {},
   "source": [
    "**Note:** If you get a permissions/stat error when running from Notebooks, do it from CloudShell."
   ]
  },
  {
   "cell_type": "markdown",
   "metadata": {},
   "source": [
    "## Step 1\n",
    "Git clone the repository if necessary:"
   ]
  },
  {
   "cell_type": "code",
   "execution_count": null,
   "metadata": {},
   "outputs": [],
   "source": [
    "%%bash\n",
    "git clone https://github.com/GoogleCloudPlatform/training-data-analyst/"
   ]
  },
  {
   "cell_type": "markdown",
   "metadata": {},
   "source": [
    "## Step 2\n",
    "Deploy the website application:"
   ]
  },
  {
   "cell_type": "code",
   "execution_count": null,
   "metadata": {},
   "outputs": [],
   "source": [
    "%%bash\n",
    "cd ~/training-data-analyst/courses/machine_learning/deepdive2\n",
    "cd structured/solutions/serving\n",
    "./deploy.sh"
   ]
  },
  {
   "cell_type": "markdown",
   "metadata": {},
   "source": [
    "## Step 3\n",
    "In a __browser__, visit https://{PROJECT}.appspot.com/ and try out the application."
   ]
  },
  {
   "cell_type": "code",
   "execution_count": null,
   "metadata": {},
   "outputs": [],
   "source": [
    "%%bash\n",
    "export PROJECT=$(gcloud config list project --format \"value(core.project)\")\n",
    "echo \"Visit https://\"$PROJECT\".appspot.com/\""
   ]
  },
  {
   "cell_type": "markdown",
   "metadata": {},
   "source": [
    "## Step 4\n",
    "Call a Java program that invokes the web service:"
   ]
  },
  {
   "cell_type": "code",
   "execution_count": null,
   "metadata": {},
   "outputs": [],
   "source": [
    "%%bash\n",
    "cd ~/training-data-analyst/courses/machine_learning/deepdive2\n",
    "cd structured/solutions/serving\n",
    "./run_once.sh"
   ]
  },
  {
   "cell_type": "markdown",
   "metadata": {},
   "source": [
    "## Step 5\n",
    "Call a Dataflow pipeline that invokes the web service on a text file:"
   ]
  },
  {
   "cell_type": "code",
   "execution_count": null,
   "metadata": {},
   "outputs": [],
   "source": [
    "%%bash\n",
    "cd ~/training-data-analyst/courses/machine_learning/deepdive2\n",
    "cd structured/solutions/serving\n",
    "./run_once.sh"
   ]
  },
  {
   "cell_type": "markdown",
   "metadata": {},
   "source": [
    "The code will also work real-time, reading from Pub/Sub and writing to BigQuery:"
   ]
  },
  {
   "cell_type": "code",
   "execution_count": null,
   "metadata": {},
   "outputs": [],
   "source": [
    "%%bash\n",
    "cd ~/training-data-analyst/courses/machine_learning/deepdive2\n",
    "cd structured/solutions/serving\n",
    "cat ./run_dataflow.sh"
   ]
  },
  {
   "cell_type": "markdown",
   "metadata": {},
   "source": [
    "## Lab Summary:\n",
    "In this lab we deployed an AppEngine web application that consumes the machine learning service and consumed the ML predictions from Dataflow, both in batch mode and in real-time."
   ]
  },
  {
   "cell_type": "markdown",
   "metadata": {},
   "source": [
    "Copyright 2017 Google Inc. Licensed under the Apache License, Version 2.0 (the \"License\"); you may not use this file except in compliance with the License. You may obtain a copy of the License at http://www.apache.org/licenses/LICENSE-2.0 Unless required by applicable law or agreed to in writing, software distributed under the License is distributed on an \"AS IS\" BASIS, WITHOUT WARRANTIES OR CONDITIONS OF ANY KIND, either express or implied. See the License for the specific language governing permissions and limitations under the License"
   ]
  }
 ],
 "metadata": {
  "kernelspec": {
   "display_name": "Python 3",
   "language": "python",
   "name": "python3"
  },
  "language_info": {
   "codemirror_mode": {
    "name": "ipython",
    "version": 3
   },
   "file_extension": ".py",
   "mimetype": "text/x-python",
   "name": "python",
   "nbconvert_exporter": "python",
   "pygments_lexer": "ipython3",
   "version": "3.5.3"
  }
 },
 "nbformat": 4,
 "nbformat_minor": 4
}
