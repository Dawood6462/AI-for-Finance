{
 "cells": [
  {
   "cell_type": "markdown",
   "id": "fbdecef1",
   "metadata": {},
   "source": [
    "# Orchestrating TFX pipelines on Google Cloud with Vertex Pipelines"
   ]
  },
  {
   "cell_type": "markdown",
   "id": "cb4675e0",
   "metadata": {},
   "source": [
    "## Learning objectives"
   ]
  },
  {
   "cell_type": "markdown",
   "id": "9be0f0da",
   "metadata": {},
   "source": [
    "1.  Use the TFX CLI to build a TFX pipeline container.\n",
    "2.  Deploy a TFX pipeline container to Vertex Pipelines on Google Cloud.\n",
    "3.  Create and monitor a TFX pipeline run using the Vertex Pipelines UI."
   ]
  },
  {
   "cell_type": "markdown",
   "id": "d61c3ae4",
   "metadata": {},
   "source": [
    "In this lab, you will utilize the following tools and Google Cloud services to build a TFX pipeline that orchestrates the training and deployment of a TensorFlow classifier to predict forest cover type from tabular cartographic data:\n",
    "\n",
    "* The [**TFX CLI**](https://www.tensorflow.org/tfx/guide/cli) utility to build and deploy a TFX pipeline.\n",
    "* [**Vertex Pipelines**](https://cloud.google.com/vertex-ai/docs/pipelines) for TFX pipeline orchestration.\n",
    "* [**Dataflow**](https://cloud.google.com/dataflow) for scalable, distributed data processing for TFX Beam-based components.\n",
    "* A [**Vertex Training**](https://cloud.google.com/ai-platform/) job for model training and flock management of tuning trials. \n",
    "* [**Vertex Prediction**](https://cloud.google.com/ai-platform/), a model server destination for blessed pipeline model versions.\n",
    "* [**CloudTuner**](https://www.tensorflow.org/tfx/guide/tuner#tuning_on_google_cloud_platform_gcp) (KerasTuner implementation) and [**Vertex Vizier**](https://cloud.google.com/ai-platform/optimizer/docs/overview) for advanced model hyperparameter tuning."
   ]
  },
  {
   "cell_type": "markdown",
   "id": "d9afcccd",
   "metadata": {},
   "source": [
    "## Setup"
   ]
  },
  {
   "cell_type": "markdown",
   "id": "e1a434d7",
   "metadata": {},
   "source": [
    "### Define constants"
   ]
  },
  {
   "cell_type": "code",
   "execution_count": 3,
   "id": "c8f2a97a",
   "metadata": {},
   "outputs": [
    {
     "name": "stdout",
     "output_type": "stream",
     "text": [
      "env: PATH=/usr/local/cuda/bin:/opt/conda/bin:/opt/conda/condabin:/usr/local/bin:/usr/bin:/bin:/usr/local/games:/usr/games:/home/jupyter/.local/bin\n"
     ]
    }
   ],
   "source": [
    "# Add required libraries to Python PATH.\n",
    "PATH=%env PATH\n",
    "%env PATH={PATH}:/home/jupyter/.local/bin"
   ]
  },
  {
   "cell_type": "code",
   "execution_count": 17,
   "id": "458a2f9c",
   "metadata": {},
   "outputs": [
    {
     "name": "stdout",
     "output_type": "stream",
     "text": [
      "dougkelly-vertex-demos\n",
      "[API [cloudresourcemanager.googleapis.com] not enabled on project , [617979904441]. Would you like to enable and retry (this will take a , few minutes)? (y/N)?  , ERROR: (gcloud.projects.describe) User [617979904441-compute@developer.gserviceaccount.com] does not have permission to access projects instance [dougkelly-vertex-demos] (or it may not exist): Cloud Resource Manager API has not been used in project 617979904441 before or it is disabled. Enable it by visiting https://console.developers.google.com/apis/api/cloudresourcemanager.googleapis.com/overview?project=617979904441 then retry. If you enabled this API recently, wait a few minutes for the action to propagate to our systems and retry., - '@type': type.googleapis.com/google.rpc.Help,   links:,   - description: Google developers console API activation,     url: https://console.developers.google.com/apis/api/cloudresourcemanager.googleapis.com/overview?project=617979904441, - '@type': type.googleapis.com/google.rpc.ErrorInfo,   domain: googleapis.com,   metadata:,     consumer: projects/617979904441,     service: cloudresourcemanager.googleapis.com,   reason: SERVICE_DISABLED]\n",
      "us-central1\n"
     ]
    }
   ],
   "source": [
    "PROJECT_ID = !(gcloud config get-value core/project)\n",
    "PROJECT_ID = PROJECT_ID[0]\n",
    "PROJECT_NUMBER= !$(gcloud projects describe $PROJECT_ID --format=\"value(projectNumber)\")\n",
    "REGION = 'us-central1'\n",
    "\n",
    "!echo {PROJECT_ID}\n",
    "!echo {PROJECT_NUMBER}\n",
    "!echo {REGION}"
   ]
  },
  {
   "cell_type": "markdown",
   "id": "337d6263",
   "metadata": {},
   "source": [
    "### Configure service accounts for your project for Vertex Pipelines"
   ]
  },
  {
   "cell_type": "code",
   "execution_count": null,
   "id": "7e01d3a0",
   "metadata": {},
   "outputs": [],
   "source": [
    "! gcloud services enable \\\n",
    "compute.googleapis.com \\\n",
    "iam.googleapis.com \\\n",
    "cloudbuild.googleapis.com \\\n",
    "container.googleapis.com \\\n",
    "notebooks.googleapis.com \\\n",
    "aiplatform.googleapis.com \\\n",
    "dataflow.googleapis.com \\\n",
    "bigquery.googleapis.com \\\n",
    "bigquerydatatransfer.googleapis.com \\  \n",
    "artifactregistry.googleapis.com \\\n",
    "cloudresourcemanager.googleapis.com \\\n",
    "cloudtrace.googleapis.com \\\n",
    "iamcredentials.googleapis.com \\\n",
    "monitoring.googleapis.com \\\n",
    "logging.googleapis.com"
   ]
  },
  {
   "cell_type": "code",
   "execution_count": 18,
   "id": "8afe2b76",
   "metadata": {},
   "outputs": [
    {
     "name": "stdout",
     "output_type": "stream",
     "text": [
      "Created service account [tfx-vertex-pipelines].\n"
     ]
    }
   ],
   "source": [
    "SERVICE_ACCOUNT_ID=tfx-vertex-pipelines-sa\n",
    "gcloud iam service-accounts create $SERVICE_ACCOUNT_ID \\\n",
    "    --description=\"TFX on Google Cloud Vertex Pipelines\" \\\n",
    "    --display-name=\"TFX Vertex Pipelines service account\" \\\n",
    "    --project=$PROJECT_ID"
   ]
  },
  {
   "cell_type": "code",
   "execution_count": null,
   "id": "cbb25bb1",
   "metadata": {},
   "outputs": [],
   "source": [
    "# Add Vertex Pipelines\n",
    "gcloud projects add-iam-policy-binding $PROJECT_ID \\\n",
    "    --member=\"serviceAccount:${SERVICE_ACCOUNT_ID}@${PROJECT_ID}.iam.gserviceaccount.com\" \\\n",
    "    --role=\"roles/aiplatform.user\""
   ]
  },
  {
   "cell_type": "code",
   "execution_count": null,
   "id": "a4960b26",
   "metadata": {},
   "outputs": [],
   "source": [
    "# Add BigQuery\n",
    "gcloud projects add-iam-policy-binding $PROJECT_ID \\\n",
    "    --member=\"serviceAccount:${SERVICE_ACCOUNT_ID}@${PROJECT_ID}.iam.gserviceaccount.com\" \\\n",
    "    --role=\"roles/bigquery.user\""
   ]
  },
  {
   "cell_type": "code",
   "execution_count": null,
   "id": "6156f247",
   "metadata": {},
   "outputs": [],
   "source": [
    "# Add GCS\n",
    "gcloud projects add-iam-policy-binding $PROJECT_ID \\\n",
    "    --member=serviceAccount:${SERVICE_ACCOUNT_ID}@${PROJECT_ID}.iam.gserviceaccount.com \\\n",
    "    --role=roles/storage.objectAdmin\n",
    "    \n",
    "# gsutil iam ch \\\n",
    "# serviceAccount:${SERVICE_ACCOUNT_ID}@${PROJECT_ID}.iam.gserviceaccount.com:roles/storage.objectCreator \\\n",
    "# $BUCKET_NAME\n",
    "\n",
    "# gsutil iam ch \\\n",
    "# serviceAccount:${SERVICE_ACCOUNT_ID}@${PROJECT_ID}.iam.gserviceaccount.com:roles/storage.objectViewer \\\n",
    "# $BUCKET_NAME\n",
    "\n",
    "# https://cloud.google.com/vertex-ai/docs/pipelines/configure-project\n",
    "gcloud iam service-accounts add-iam-policy-binding \\\n",
    "    $SERVICE_ACCOUNT_ID@$PROJECT_ID.iam.gserviceaccount.com \\\n",
    "    --member=\"user:dougkelly@google.com\" \\\n",
    "    --role=\"roles/iam.serviceAccountUser\""
   ]
  },
  {
   "cell_type": "markdown",
   "id": "2d49d008",
   "metadata": {},
   "source": [
    "### Create a storage bucket to store pipeline artifacts"
   ]
  },
  {
   "cell_type": "code",
   "execution_count": null,
   "id": "7260831e",
   "metadata": {},
   "outputs": [],
   "source": [
    "GCS_BUCKET = f\"gs://{PROJECT_ID}-bucket\"\n",
    "\n",
    "ARTIFACT_STORE_URI = os.path.join(GCS_LOCATION, \"tfx_artifacts\")\n",
    "\n",
    "!echo {BUCKET_NAME}"
   ]
  },
  {
   "cell_type": "code",
   "execution_count": 10,
   "id": "768cf4f8",
   "metadata": {},
   "outputs": [
    {
     "name": "stdout",
     "output_type": "stream",
     "text": [
      "gs://cloud-ai-platform-e2834baf-1af1-45b3-9237-b58dbefadbbe/\n",
      "gs://dougkelly-vertex-demos-bucket/\n"
     ]
    }
   ],
   "source": [
    "!gsutil ls -al $BUCKET_NAME"
   ]
  },
  {
   "cell_type": "markdown",
   "id": "56be0b10",
   "metadata": {},
   "source": [
    "### Import libraries"
   ]
  },
  {
   "cell_type": "code",
   "execution_count": 9,
   "id": "c3fa5249",
   "metadata": {},
   "outputs": [
    {
     "name": "stderr",
     "output_type": "stream",
     "text": [
      "WARNING:absl:RuntimeParameter is only supported on Cloud-based DAG runner currently.\n"
     ]
    },
    {
     "name": "stdout",
     "output_type": "stream",
     "text": [
      "TensorFlow version: 2.4.2\n",
      "TFX version: 0.30.1\n",
      "KFP version: 1.6.2\n"
     ]
    }
   ],
   "source": [
    "import tensorflow as tf\n",
    "from tfx import v1 as tfx\n",
    "import kfp\n",
    "\n",
    "print('TensorFlow version: {}'.format(tf.__version__))\n",
    "print('TFX version: {}'.format(tfx.__version__))\n",
    "print('KFP version: {}'.format(kfp.__version__))"
   ]
  },
  {
   "cell_type": "markdown",
   "id": "6f9d55b9",
   "metadata": {},
   "source": [
    "## Review the TFX pipeline design pattern for Google Cloud"
   ]
  },
  {
   "cell_type": "code",
   "execution_count": 7,
   "id": "d9c394c8",
   "metadata": {},
   "outputs": [
    {
     "name": "stdout",
     "output_type": "stream",
     "text": [
      "/home/jupyter/training-data-analyst/self-paced-labs/vertex-pipelines/tfx/pipeline\n"
     ]
    }
   ],
   "source": [
    "%cd pipeline"
   ]
  },
  {
   "cell_type": "code",
   "execution_count": 8,
   "id": "29d5fc51",
   "metadata": {},
   "outputs": [
    {
     "name": "stdout",
     "output_type": "stream",
     "text": [
      "total 8\n",
      "drwxr-xr-x 2 jupyter jupyter 4096 Jun 27 18:18 .\n",
      "drwxr-xr-x 4 jupyter jupyter 4096 Jun 27 20:43 ..\n"
     ]
    }
   ],
   "source": [
    "!ls -la"
   ]
  },
  {
   "cell_type": "code",
   "execution_count": null,
   "id": "a836ce70",
   "metadata": {},
   "outputs": [],
   "source": []
  }
 ],
 "metadata": {
  "environment": {
   "name": "tf2-gpu.2-3.m71",
   "type": "gcloud",
   "uri": "gcr.io/deeplearning-platform-release/tf2-gpu.2-3:m71"
  },
  "kernelspec": {
   "display_name": "Python 3",
   "language": "python",
   "name": "python3"
  },
  "language_info": {
   "codemirror_mode": {
    "name": "ipython",
    "version": 3
   },
   "file_extension": ".py",
   "mimetype": "text/x-python",
   "name": "python",
   "nbconvert_exporter": "python",
   "pygments_lexer": "ipython3",
   "version": "3.7.10"
  }
 },
 "nbformat": 4,
 "nbformat_minor": 5
}
